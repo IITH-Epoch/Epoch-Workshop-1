{
  "nbformat": 4,
  "nbformat_minor": 0,
  "metadata": {
    "colab": {
      "provenance": []
    },
    "kernelspec": {
      "name": "python3",
      "display_name": "Python 3"
    },
    "language_info": {
      "name": "python"
    }
  },
  "cells": [
    {
      "cell_type": "markdown",
      "source": [
        "# **Epoch + GDSC Workshop: Programming for AI**\n",
        "## Content prepared by: Donal, Ananya, Digjoy, Rudransh, Satwik, Vijay, Maharshi, Anirudh"
      ],
      "metadata": {
        "id": "N6sujYkV69b_"
      }
    },
    {
      "cell_type": "markdown",
      "source": [
        "# **NumPy**"
      ],
      "metadata": {
        "id": "JpNDV4Kh2Oaz"
      }
    },
    {
      "cell_type": "markdown",
      "source": [
        "- Stands for NUMerical PYthon\n",
        "- Faster because it is based out of C/C++"
      ],
      "metadata": {
        "id": "vubK1dnHiFSm"
      }
    },
    {
      "cell_type": "markdown",
      "source": [
        "\n",
        "\n",
        " # Lists Vs Numpy\n",
        "\n",
        "\n",
        "*   Initialization\n",
        "*   Indexing\n",
        "*   Slicing\n",
        "*   Memory\n",
        "*   Time Consumption\n",
        "*   Few direct operations numpy can handle\n",
        "\n",
        "\n"
      ],
      "metadata": {
        "id": "h5a3O27HgefH"
      }
    },
    {
      "cell_type": "markdown",
      "source": [
        "Initialization:\n",
        "We can initialize a numpy array using a list"
      ],
      "metadata": {
        "id": "pfYkf0AI3O-o"
      }
    },
    {
      "cell_type": "code",
      "source": [
        "import numpy as np\n",
        "import matplotlib.pyplot as plt\n",
        "import os\n",
        "import time\n",
        "import sys"
      ],
      "metadata": {
        "id": "6zAxaxCmfLPC"
      },
      "execution_count": null,
      "outputs": []
    },
    {
      "cell_type": "code",
      "source": [
        "# A Python list\n",
        "my_list = [1,2,3,4,5,6,7,8]\n",
        "# A numpy array that contains items of the same type\n",
        "my_numpy_array = np.array([1,2,3,4,5,6,7,8])\n",
        "\n",
        "# printing the list\n",
        "print(\"List:\",my_list)\n",
        "\n",
        "# printing the numpy array\n",
        "print(\"Numpy_array:\",my_numpy_array)"
      ],
      "metadata": {
        "id": "cmHKPPvthsZ-",
        "colab": {
          "base_uri": "https://localhost:8080/"
        },
        "outputId": "737d8789-f46a-4f7c-e8fe-27e5dcdda114"
      },
      "execution_count": null,
      "outputs": [
        {
          "output_type": "stream",
          "name": "stdout",
          "text": [
            "List: [1, 2, 3, 4, 5, 6, 7, 8]\n",
            "Numpy_array: [2 3 4 5 6 7 8 9]\n"
          ]
        }
      ]
    },
    {
      "cell_type": "code",
      "source": [
        "# Both list and numpy are mutable\n",
        "my_list[7] = 9\n",
        "my_numpy_array[7]  = 10\n",
        "\n",
        "print(\"List:\",my_list)\n",
        "print(\"Numpy_array:\",my_numpy_array)\n"
      ],
      "metadata": {
        "id": "dQNg418IfjIN",
        "colab": {
          "base_uri": "https://localhost:8080/"
        },
        "outputId": "868174fe-414c-4685-fa6e-f5413efc178d"
      },
      "execution_count": null,
      "outputs": [
        {
          "output_type": "stream",
          "name": "stdout",
          "text": [
            "List: [1, 2, 3, 4, 5, 6, 7, 9]\n",
            "Numpy_array: [ 1  2  3  4  5  6  7 10]\n"
          ]
        }
      ]
    },
    {
      "cell_type": "code",
      "source": [
        "# Broadcasting\n",
        "my_numpy_array += 1\n",
        "\n",
        "# while you can't do the same thing with lists. my_list += 1 will give an error"
      ],
      "metadata": {
        "id": "oMgkwq8Aiksm"
      },
      "execution_count": null,
      "outputs": []
    },
    {
      "cell_type": "code",
      "source": [
        "# Both can be indexed and can be used for slicing operations\n",
        "# Accessing an element in an array through their index\n",
        "\n",
        "l = my_list[3]\n",
        "print(\"The fourth element(Numpy Array)\",l)\n",
        "n = my_numpy_array[4]\n",
        "print(\"The fifth element(Numpy Array)\",n)\n",
        "\n",
        "# Slicing operations\n",
        "\n",
        "l_s = my_list[:4]\n",
        "print(\"After the slicing operation(List):\",l_s)\n",
        "n_s = my_numpy_array[:4]\n",
        "\n",
        "\n",
        "print(\"After the slicing operation(Numpy_array):\",n_s)\n"
      ],
      "metadata": {
        "id": "wrpX5AirgHjO",
        "colab": {
          "base_uri": "https://localhost:8080/"
        },
        "outputId": "407ef031-7f17-439e-9767-5e8a26742760"
      },
      "execution_count": null,
      "outputs": [
        {
          "output_type": "stream",
          "name": "stdout",
          "text": [
            "The fourth element(Numpy Array) 4\n",
            "The fifth element(Numpy Array) 5\n",
            "After the slicing operation(List): [1, 2, 3, 4]\n",
            "After the slicing operation(Numpy_array): [1 2 3 4]\n"
          ]
        }
      ]
    },
    {
      "cell_type": "code",
      "source": [
        "# Memory consumption o# Memory consumption of list and array\n",
        "list_memory = sys.getsizeof(my_list)\n",
        "print(\"Memory(in bytes) list consumes:\",list_memory )\n",
        "numpy_arr_memory = my_numpy_array.itemsize\n",
        "print(\"Memory(in bytes) NumPy array consumes:\",numpy_arr_memory )\n",
        "print(\"List consumes\", list_memory /numpy_arr_memory ,\"times memory than a numpy array of same size\")"
      ],
      "metadata": {
        "id": "LzKjFuFTgIma",
        "colab": {
          "base_uri": "https://localhost:8080/"
        },
        "outputId": "f9c67a75-f8ea-4f62-e9e4-7a9977b8bc47"
      },
      "execution_count": null,
      "outputs": [
        {
          "output_type": "stream",
          "name": "stdout",
          "text": [
            "Memory(in bytes) list consumes: 120\n",
            "Memory(in bytes) NumPy array consumes: 8\n",
            "List consumes 15.0 times memory than a numpy array of same size\n"
          ]
        }
      ]
    },
    {
      "cell_type": "code",
      "source": [
        "# Mathematical operations numpy can handle directly while lists cannot\n",
        "#List\n",
        "list_add = [i for i in range(10000)]\n",
        "\n",
        "start = time.time()\n",
        "list_add = [i+3 for i in list_add]\n",
        "end = time.time()\n",
        "\n",
        "t_add_list = end-start\n",
        "\n",
        "\n",
        "#Numpy_array\n",
        "my_numpy_add = np.array([i for i in range(10000)])\n",
        "\n",
        "start = time.time()\n",
        "my_numpy_add = my_numpy_add + 3\n",
        "end = time.time()\n",
        "\n",
        "t_add_np = end-start\n",
        "\n",
        "print(\"List after adding 3:\",list_add[:5])\n",
        "print(\"Numpy after adding 3:\",my_numpy_add[:5])\n",
        "\n",
        "#Time consumption\n",
        "print(\"Comparing the time consumed by lits and numpy arrays for addition operation\")\n",
        "print(\"Lists:\",t_add_list ,\"Numpy_Array\",t_add_np)\n",
        "print(\"Numpy arrays are\",int(t_add_list/t_add_np),\"times faster\")\n",
        "\n"
      ],
      "metadata": {
        "id": "LX291fvagYA2",
        "colab": {
          "base_uri": "https://localhost:8080/"
        },
        "outputId": "24424025-c166-409d-ee6d-95f0f5384a37"
      },
      "execution_count": null,
      "outputs": [
        {
          "output_type": "stream",
          "name": "stdout",
          "text": [
            "List after adding 3: [3, 4, 5, 6, 7]\n",
            "Numpy after adding 3: [3 4 5 6 7]\n",
            "Comparing the time consumed by lits and numpy arrays for addition operation\n",
            "Lists: 0.0015685558319091797 Numpy_Array 0.00015425682067871094\n",
            "Numpy arrays are 10 times faster\n"
          ]
        }
      ]
    },
    {
      "cell_type": "markdown",
      "source": [
        "\n",
        "\n",
        "## Random Numbers\n",
        "\n",
        "\n",
        "*   np.random.rand() : Generates random values in a given shape from a uniform distribution\n",
        "*   np.random.randn() : Generates random numbers sample from a “standard normal” distribution.\n",
        "\n",
        "*   np.random.randint() : Generates random integer values\n",
        "*   np.random.choice() : Make random choices from a list/array\n",
        "*   np.arange() : Allows you to define the step size and infers the number of steps\n",
        "* np.linspace() : It allows you to define how many values you get including the specified min and max value\n",
        "*   np.shuffle() : Modify a sequence in-place by shuffling its contents.\n",
        "* np.random.normal() : Generates random numbers sample from a \"normal\" distribution.\n",
        "\n",
        "\n",
        "\n",
        "\n"
      ],
      "metadata": {
        "id": "NyPhKvjzpkGZ"
      }
    },
    {
      "cell_type": "markdown",
      "source": [
        "## np.random.rand(shape)"
      ],
      "metadata": {
        "id": "y0RIFR6qcTu3"
      }
    },
    {
      "cell_type": "code",
      "source": [
        "# Lets initiate some randomness\n",
        "# np.random.rand() generates a random number between 0 and 1\n",
        "a=np.random.rand()  \n",
        "print(\"The random number generated is: \",a)"
      ],
      "metadata": {
        "id": "X68emi1Bph4Y",
        "colab": {
          "base_uri": "https://localhost:8080/"
        },
        "outputId": "984258d3-804f-421f-d90a-10fa52c4d996"
      },
      "execution_count": null,
      "outputs": [
        {
          "output_type": "stream",
          "name": "stdout",
          "text": [
            "The random number generated is:  0.30901895394083156\n"
          ]
        }
      ]
    },
    {
      "cell_type": "code",
      "source": [
        "# Lets initiate more randomness\n",
        "\n",
        "a = np.random.rand(5)  # Generates an array of 5 elements with random numbers between 0 and 1\n",
        "print(\"The random numbers generated are: \")\n",
        "print(a)\n",
        "a = np.random.rand(5,2)  # # Generates an array of size 5x2 with random numbers between 0 and 1\n",
        "print(\"The random array generated is: \")\n",
        "print(a)"
      ],
      "metadata": {
        "id": "E0-MXaEEdlp8",
        "colab": {
          "base_uri": "https://localhost:8080/"
        },
        "outputId": "9469b3a9-2a67-403f-adae-65e5df8959c9"
      },
      "execution_count": null,
      "outputs": [
        {
          "output_type": "stream",
          "name": "stdout",
          "text": [
            "The random numbers generated are: \n",
            "[0.95446821 0.95548362 0.3051654  0.44189875 0.95072201]\n",
            "The random array generated is: \n",
            "[[0.81286027 0.38747188]\n",
            " [0.46881388 0.64440485]\n",
            " [0.45295207 0.40746516]\n",
            " [0.68431635 0.28958445]\n",
            " [0.45885048 0.34813364]]\n"
          ]
        }
      ]
    },
    {
      "cell_type": "markdown",
      "source": [
        "## np.random.randn(shape)"
      ],
      "metadata": {
        "id": "LI_Bw3HtsvMQ"
      }
    },
    {
      "cell_type": "code",
      "source": [
        "# What is missing??\n",
        "# - No negative numbers !!\n",
        "# Yes, but numpy even got that sorted for you XDXDXD !!\n",
        "\n",
        "a=np.random.randn(2,2)  # It Generated random numbers between -1 and 1\n",
        "print(\"The random array generated is: \")\n",
        "print(a)"
      ],
      "metadata": {
        "id": "zdspbOW0eSBj",
        "colab": {
          "base_uri": "https://localhost:8080/"
        },
        "outputId": "b78a61dd-7a18-442e-ffe8-07afe4ac7ecd"
      },
      "execution_count": null,
      "outputs": [
        {
          "output_type": "stream",
          "name": "stdout",
          "text": [
            "The random array generated is: \n",
            "[[-0.65392007  0.94451503]\n",
            " [ 0.79537131  1.39992722]]\n"
          ]
        }
      ]
    },
    {
      "cell_type": "markdown",
      "source": [
        "## np.random.randint(start=0, end, num)"
      ],
      "metadata": {
        "id": "zRsnxIRbsy9D"
      }
    },
    {
      "cell_type": "code",
      "source": [
        "# But, what if you only want integer numbers\n",
        "# Numpy - Hold my beer !\n",
        "\n",
        "a=np.random.randint(5, size=10)  # It generates random integer from [0,5), and size defines the number of\n",
        "                                 # random numbers you wanted to generate\n",
        "print(a)"
      ],
      "metadata": {
        "id": "InabvllQehSZ",
        "colab": {
          "base_uri": "https://localhost:8080/"
        },
        "outputId": "112d259a-1b1c-47bb-ee32-2d47f6594f4e"
      },
      "execution_count": null,
      "outputs": [
        {
          "output_type": "stream",
          "name": "stdout",
          "text": [
            "[4 4 2 0 3 1 4 1 1 1]\n"
          ]
        }
      ]
    },
    {
      "cell_type": "markdown",
      "source": [
        "## np.random.choice(x, size = None, replace = True, p = None)"
      ],
      "metadata": {
        "id": "bUmDO6gYs2Bq"
      }
    },
    {
      "cell_type": "code",
      "source": [
        "# Favourite Subject\n",
        "\n",
        "subject = [\"Physics\",\"Chemistry\", \"Mathematics\"]\n",
        "a=np.random.choice(subject)  # Randomly choose one element from the list provided\n",
        "print(a)"
      ],
      "metadata": {
        "id": "sb6f1577fJg8",
        "colab": {
          "base_uri": "https://localhost:8080/"
        },
        "outputId": "a2c7eeef-49bb-4a72-b616-6e8606e7274f"
      },
      "execution_count": null,
      "outputs": [
        {
          "output_type": "stream",
          "name": "stdout",
          "text": [
            "Physics\n"
          ]
        }
      ]
    },
    {
      "cell_type": "code",
      "source": [
        "# What if you know Mathematics is the best??\n",
        "\n",
        "a=np.random.choice(subject, p = [0,0,1])  # Here, p defines the probabilty of picking the corresponding element in the list\n",
        "print(a)"
      ],
      "metadata": {
        "id": "GqL5F-nXf1jf",
        "colab": {
          "base_uri": "https://localhost:8080/"
        },
        "outputId": "f71ebf80-56dd-4d3c-992f-dcdee5b9446e"
      },
      "execution_count": null,
      "outputs": [
        {
          "output_type": "stream",
          "name": "stdout",
          "text": [
            "Mathematics\n"
          ]
        }
      ]
    },
    {
      "cell_type": "markdown",
      "source": [
        "## np.arange(start=0, end, step)"
      ],
      "metadata": {
        "id": "L14G78BRs7WK"
      }
    },
    {
      "cell_type": "code",
      "source": [
        "# Return evenly spaced values within a given interval\n",
        "a=np.arange(12)  \n",
        "print(a)"
      ],
      "metadata": {
        "id": "YtPwc_PdgI5w",
        "colab": {
          "base_uri": "https://localhost:8080/"
        },
        "outputId": "d5906753-cec1-4a65-80fe-f7d775124a7d"
      },
      "execution_count": null,
      "outputs": [
        {
          "output_type": "stream",
          "name": "stdout",
          "text": [
            "[ 0  1  2  3  4  5  6  7  8  9 10 11]\n"
          ]
        }
      ]
    },
    {
      "cell_type": "markdown",
      "source": [
        "## np.linspace(start, end, num)"
      ],
      "metadata": {
        "id": "pkk6Xnivs-Mh"
      }
    },
    {
      "cell_type": "code",
      "source": [
        "# 10 linearly spaced numbers\n",
        "x = np.linspace(1,10,10)\n",
        "print(x)"
      ],
      "metadata": {
        "id": "-2_xlBrRjamc",
        "colab": {
          "base_uri": "https://localhost:8080/"
        },
        "outputId": "3be8dfe5-b11d-40c3-9386-963548718513"
      },
      "execution_count": null,
      "outputs": [
        {
          "output_type": "stream",
          "name": "stdout",
          "text": [
            "[ 1.  2.  3.  4.  5.  6.  7.  8.  9. 10.]\n"
          ]
        }
      ]
    },
    {
      "cell_type": "code",
      "source": [
        "# difference between np.linspace and np.arange\n",
        "\n",
        "linspace = np.linspace(0,10,10 , endpoint = False) # uses number of equally seperated points\n",
        "arange = np.arange(0,10,1)  # uses distance between two points\n",
        "\n",
        "print(\"Linspace -> \" , linspace)\n",
        "print(\"Arange -> \" , arange)"
      ],
      "metadata": {
        "colab": {
          "base_uri": "https://localhost:8080/"
        },
        "id": "aI-lE0-nfC7z",
        "outputId": "e7d0e907-d146-422e-c778-27bee2d5ed45"
      },
      "execution_count": null,
      "outputs": [
        {
          "output_type": "stream",
          "name": "stdout",
          "text": [
            "Linspace ->  [0. 1. 2. 3. 4. 5. 6. 7. 8. 9.]\n",
            "Arange ->  [0 1 2 3 4 5 6 7 8 9]\n"
          ]
        }
      ]
    },
    {
      "cell_type": "markdown",
      "source": [
        "## np.random.shuffle(x)"
      ],
      "metadata": {
        "id": "gngI3t2EtAo1"
      }
    },
    {
      "cell_type": "code",
      "source": [
        "# Shuffle the given array for you\n",
        "np.random.shuffle(a)  \n",
        "print(a)"
      ],
      "metadata": {
        "id": "_2gEmV4wgMEF",
        "colab": {
          "base_uri": "https://localhost:8080/"
        },
        "outputId": "f303a007-435a-482a-e968-e2fcb36a0a74"
      },
      "execution_count": null,
      "outputs": [
        {
          "output_type": "stream",
          "name": "stdout",
          "text": [
            "[ 1  4  6  0  5  9 11  3 10  7  2  8]\n"
          ]
        }
      ]
    },
    {
      "cell_type": "markdown",
      "source": [
        "## np.random.normal(loc = 0.0, scale = 1.0, size = None)"
      ],
      "metadata": {
        "id": "bdorg8TFuv9X"
      }
    },
    {
      "cell_type": "code",
      "source": [
        "# Randomly generate a number from a normal distribution\n",
        "a = np.random.normal(0,0.2) # Here mu = 0 and variance = 0.2\n",
        "print(\"The random number generated using normal distribution is : \", a)"
      ],
      "metadata": {
        "id": "NAogcFcPhB1m",
        "colab": {
          "base_uri": "https://localhost:8080/"
        },
        "outputId": "94b04d3d-3b41-4f53-9dca-5d51955d6b20"
      },
      "execution_count": null,
      "outputs": [
        {
          "output_type": "stream",
          "name": "stdout",
          "text": [
            "The random number generated using normal distribution is :  0.02991613452198419\n"
          ]
        }
      ]
    },
    {
      "cell_type": "markdown",
      "source": [
        "## Mathematical Functions in Numpy"
      ],
      "metadata": {
        "id": "_wFX0y7Nkgyf"
      }
    },
    {
      "cell_type": "markdown",
      "source": [
        " Trigonometric functions"
      ],
      "metadata": {
        "id": "HApYEd4ttb1m"
      }
    },
    {
      "cell_type": "code",
      "source": [
        "a=np.linspace(0,10)\n",
        "sin=np.sin(a)\n",
        "cos=np.cos(a)\n",
        "\n",
        "plt.plot(a,sin)\n",
        "plt.plot(a,cos)\n",
        "plt.show()"
      ],
      "metadata": {
        "id": "ILtGYAKBkybk",
        "colab": {
          "base_uri": "https://localhost:8080/",
          "height": 265
        },
        "outputId": "740a8688-b930-41dc-e5be-f8737d5e9a60"
      },
      "execution_count": null,
      "outputs": [
        {
          "output_type": "display_data",
          "data": {
            "text/plain": [
              "<Figure size 432x288 with 1 Axes>"
            ],
            "image/png": "[encoded data removed]"
          },
          "metadata": {
            "needs_background": "light"
          }
        }
      ]
    },
    {
      "cell_type": "code",
      "source": [
        "a=np.linspace(-1,1)\n",
        "arcsin=np.arcsin(a)\n",
        "arccos=np.arccos(a)\n",
        "\n",
        "plt.plot(a,arcsin)\n",
        "plt.plot(a,arccos)\n",
        "plt.show()"
      ],
      "metadata": {
        "id": "1VSP_YaoIESu",
        "colab": {
          "base_uri": "https://localhost:8080/",
          "height": 265
        },
        "outputId": "3f2bacfc-7d03-46aa-f400-bdb85d7a68b3"
      },
      "execution_count": null,
      "outputs": [
        {
          "output_type": "display_data",
          "data": {
            "text/plain": [
              "<Figure size 432x288 with 1 Axes>"
            ],
            "image/png": "[encoded data removed]"
          },
          "metadata": {
            "needs_background": "light"
          }
        }
      ]
    },
    {
      "cell_type": "code",
      "source": [
        "a=np.linspace(-3,3)\n",
        "sinh=np.sinh(a)\n",
        "cosh=np.cosh(a)\n",
        "\n",
        "plt.plot(a,sinh)\n",
        "plt.plot(a,cosh)\n",
        "plt.show()"
      ],
      "metadata": {
        "id": "G8CZ63SyJWUH",
        "colab": {
          "base_uri": "https://localhost:8080/",
          "height": 265
        },
        "outputId": "48d26684-d800-488d-b40e-cf4f79a3c097"
      },
      "execution_count": null,
      "outputs": [
        {
          "output_type": "display_data",
          "data": {
            "text/plain": [
              "<Figure size 432x288 with 1 Axes>"
            ],
            "image/png": "[encoded data removed]"
          },
          "metadata": {
            "needs_background": "light"
          }
        }
      ]
    },
    {
      "cell_type": "code",
      "source": [
        "pi=3.14159265358\n",
        "print(np.degrees(2*pi))\n",
        "print(np.radians(360))"
      ],
      "metadata": {
        "id": "nkLeBxr8Kc8E",
        "colab": {
          "base_uri": "https://localhost:8080/"
        },
        "outputId": "adf0ce29-3f64-46b3-985b-a6c47766446f"
      },
      "execution_count": null,
      "outputs": [
        {
          "output_type": "stream",
          "name": "stdout",
          "text": [
            "359.9999999988778\n",
            "6.283185307179586\n"
          ]
        }
      ]
    },
    {
      "cell_type": "code",
      "source": [
        "e=2.71828\n",
        "print(np.log(e**10))\n",
        "print(np.log2(4096))"
      ],
      "metadata": {
        "id": "N1cB0TVWMj0Y",
        "colab": {
          "base_uri": "https://localhost:8080/"
        },
        "outputId": "25b7c8a6-9729-4ef5-e3fd-604bdef4a72a"
      },
      "execution_count": null,
      "outputs": [
        {
          "output_type": "stream",
          "name": "stdout",
          "text": [
            "9.99999327347282\n",
            "12.0\n"
          ]
        }
      ]
    },
    {
      "cell_type": "code",
      "source": [
        "print(np.exp(3))\n",
        "print(np.exp2(5))"
      ],
      "metadata": {
        "id": "dYZjI2JvM6Sx",
        "colab": {
          "base_uri": "https://localhost:8080/"
        },
        "outputId": "e0f5717a-e636-48a7-aa85-1a693b769c30"
      },
      "execution_count": null,
      "outputs": [
        {
          "output_type": "stream",
          "name": "stdout",
          "text": [
            "20.085536923187668\n",
            "32.0\n"
          ]
        }
      ]
    },
    {
      "cell_type": "code",
      "source": [
        "a=1234.56789\n",
        "print(np.around(a,3))\n",
        "print(np.floor(a))\n",
        "print(np.ceil(a))"
      ],
      "metadata": {
        "id": "UJF0T3TcNRL7",
        "colab": {
          "base_uri": "https://localhost:8080/"
        },
        "outputId": "52824048-c598-470f-98cd-1fb4646d2035"
      },
      "execution_count": null,
      "outputs": [
        {
          "output_type": "stream",
          "name": "stdout",
          "text": [
            "1234.568\n",
            "1234.0\n",
            "1235.0\n"
          ]
        }
      ]
    },
    {
      "cell_type": "code",
      "source": [
        "print(np.mod(25,11))\n",
        "print(np.mod(45,4))"
      ],
      "metadata": {
        "id": "UhoMpoP3wVuf",
        "colab": {
          "base_uri": "https://localhost:8080/"
        },
        "outputId": "5ea22ed6-6ae6-4e46-edc8-730da23f55ad"
      },
      "execution_count": null,
      "outputs": [
        {
          "output_type": "stream",
          "name": "stdout",
          "text": [
            "3\n",
            "1\n"
          ]
        }
      ]
    },
    {
      "cell_type": "code",
      "source": [
        "a=[1,2,3,4,5]\n",
        "b=[1,2,3,4,5]\n",
        "\n",
        "print(np.add(a,b))\n",
        "print(np.subtract(a,b))\n",
        "print(np.multiply(a,b))\n",
        "print(np.divide(a,b))"
      ],
      "metadata": {
        "id": "Nf0yqrQFvZpr",
        "colab": {
          "base_uri": "https://localhost:8080/"
        },
        "outputId": "d69cdac7-3d49-40c1-8d3f-c3477371bc1d"
      },
      "execution_count": null,
      "outputs": [
        {
          "output_type": "stream",
          "name": "stdout",
          "text": [
            "[ 2  4  6  8 10]\n",
            "[0 0 0 0 0]\n",
            "[ 1  4  9 16 25]\n",
            "[1. 1. 1. 1. 1.]\n"
          ]
        }
      ]
    },
    {
      "cell_type": "code",
      "source": [
        "a=1234 + 56789j\n",
        "print(np.conj(a))\n",
        "print(np.isreal(a))\n"
      ],
      "metadata": {
        "id": "efH1OD1WtR7F",
        "colab": {
          "base_uri": "https://localhost:8080/"
        },
        "outputId": "50b80525-487d-4845-a011-3316cd7fc556"
      },
      "execution_count": null,
      "outputs": [
        {
          "output_type": "stream",
          "name": "stdout",
          "text": [
            "(1234-56789j)\n",
            "False\n"
          ]
        }
      ]
    },
    {
      "cell_type": "code",
      "source": [
        "a=np.array([1,3,2,4,6,5])\n",
        "b=np.array([6,5,3,4,2,1])\n",
        "print(np.minimum(a,b))\n",
        "print(np.maximum(a,b))"
      ],
      "metadata": {
        "id": "9lDJA3ZhOdNW",
        "colab": {
          "base_uri": "https://localhost:8080/"
        },
        "outputId": "0d5cbccb-a7ba-4c3a-dee5-294a432ce0d8"
      },
      "execution_count": null,
      "outputs": [
        {
          "output_type": "stream",
          "name": "stdout",
          "text": [
            "[1 3 2 4 2 1]\n",
            "[6 5 3 4 6 5]\n"
          ]
        }
      ]
    },
    {
      "cell_type": "code",
      "source": [
        "a= -1\n",
        "print(np.cbrt(a))"
      ],
      "metadata": {
        "id": "ruC_456-Sqq-",
        "colab": {
          "base_uri": "https://localhost:8080/"
        },
        "outputId": "19dba282-93e2-4943-dcbc-5c72648fb5f6"
      },
      "execution_count": null,
      "outputs": [
        {
          "output_type": "stream",
          "name": "stdout",
          "text": [
            "-1.0\n"
          ]
        }
      ]
    },
    {
      "cell_type": "code",
      "source": [
        "a= -1\n",
        "print(a**(1/3))"
      ],
      "metadata": {
        "id": "fH_qq1x4TCzO",
        "colab": {
          "base_uri": "https://localhost:8080/"
        },
        "outputId": "ee0e81c1-c18a-4923-d337-cf5a5a4911cf"
      },
      "execution_count": null,
      "outputs": [
        {
          "output_type": "stream",
          "name": "stdout",
          "text": [
            "(0.5000000000000001+0.8660254037844386j)\n"
          ]
        }
      ]
    },
    {
      "cell_type": "code",
      "source": [
        "x=np.linspace(1,10)\n",
        "\n",
        "y=np.log2(x)\n",
        "\n",
        "plt.plot(x,y)\n",
        "plt.show()"
      ],
      "metadata": {
        "id": "nmWIWA_ClzKC",
        "colab": {
          "base_uri": "https://localhost:8080/",
          "height": 265
        },
        "outputId": "2f3832dd-7154-4662-c288-2c0c2224a62b"
      },
      "execution_count": null,
      "outputs": [
        {
          "output_type": "display_data",
          "data": {
            "text/plain": [
              "<Figure size 432x288 with 1 Axes>"
            ],
            "image/png": "[encoded data removed]"
          },
          "metadata": {
            "needs_background": "light"
          }
        }
      ]
    },
    {
      "cell_type": "code",
      "source": [
        "a=np.array([1,3,2,4,6,5,3,7,8,6,9,0])\n",
        "b=np.array([6,5,3,4,2,1,6,7,3,2,4,1])\n",
        "print(np.where(a>2*b,a,b))\n",
        "print(np.where(a>2*b,b,a))\n",
        "print(np.where(a+1>b,a,b))"
      ],
      "metadata": {
        "id": "QA4qNuraQ7KJ",
        "colab": {
          "base_uri": "https://localhost:8080/"
        },
        "outputId": "7afa2c90-27e6-4b47-afaa-1573eafc2c34"
      },
      "execution_count": null,
      "outputs": [
        {
          "output_type": "stream",
          "name": "stdout",
          "text": [
            "[6 5 3 4 6 5 6 7 8 6 9 1]\n",
            "[1 3 2 4 2 1 3 7 3 2 4 0]\n",
            "[6 5 3 4 6 5 6 7 8 6 9 1]\n"
          ]
        }
      ]
    },
    {
      "cell_type": "code",
      "source": [
        "a=np.linspace(0,10,20)\n",
        "grad=np.gradient(np.sin(a),a)\n",
        "\n",
        "real=np.cos(a)\n",
        "\n",
        "diff=np.absolute(grad-real)\n",
        "\n",
        "plt.plot(a,grad,\"blue\")\n",
        "plt.plot(a,real,\"red\")\n",
        "plt.show()"
      ],
      "metadata": {
        "id": "hc6_NW8elGEP",
        "colab": {
          "base_uri": "https://localhost:8080/",
          "height": 265
        },
        "outputId": "9dad9802-b972-42cb-aa2f-e9b9e2fe7a09"
      },
      "execution_count": null,
      "outputs": [
        {
          "output_type": "display_data",
          "data": {
            "text/plain": [
              "<Figure size 432x288 with 1 Axes>"
            ],
            "image/png": "[encoded data removed]"
          },
          "metadata": {
            "needs_background": "light"
          }
        }
      ]
    },
    {
      "cell_type": "markdown",
      "source": [
        "# **Pandas**"
      ],
      "metadata": {
        "id": "FBKoubWT-h1W"
      }
    },
    {
      "cell_type": "code",
      "execution_count": null,
      "metadata": {
        "id": "Bq8lZxiEp4t2"
      },
      "outputs": [],
      "source": [
        "import numpy as np\n",
        "import pandas as pd"
      ]
    },
    {
      "cell_type": "code",
      "source": [
        "# Pandas Series\n",
        "\n",
        "lis = [4,2,3,1]\n",
        "series = pd.Series(lis)\n",
        "print(series)"
      ],
      "metadata": {
        "colab": {
          "base_uri": "https://localhost:8080/"
        },
        "id": "O8qcpNSofB3k",
        "outputId": "b9380aa5-380c-4e6d-9892-ef09df03b2db"
      },
      "execution_count": null,
      "outputs": [
        {
          "output_type": "stream",
          "name": "stdout",
          "text": [
            "0    4\n",
            "1    2\n",
            "2    3\n",
            "3    1\n",
            "dtype: int64\n"
          ]
        }
      ]
    },
    {
      "cell_type": "code",
      "source": [
        "# Series from np array\n",
        "arr = np.array([1,2,3])\n",
        "\n",
        "series = pd.Series(arr,index=[\"a\",\"b\",\"c\"])\n",
        "print(series)"
      ],
      "metadata": {
        "colab": {
          "base_uri": "https://localhost:8080/"
        },
        "id": "XW3u_7dRgohb",
        "outputId": "b6a110c1-6df8-45a7-9465-5973d34a2cfc"
      },
      "execution_count": null,
      "outputs": [
        {
          "output_type": "stream",
          "name": "stdout",
          "text": [
            "a    1\n",
            "b    2\n",
            "c    3\n",
            "dtype: int64\n"
          ]
        }
      ]
    },
    {
      "cell_type": "code",
      "source": [
        "# Series from dictionary\n",
        "d = {\"x\":1,\"y\":2,\"z\":3}\n",
        "\n",
        "series = pd.Series(d)\n",
        "print(series)"
      ],
      "metadata": {
        "colab": {
          "base_uri": "https://localhost:8080/"
        },
        "id": "uo338ODxhGMC",
        "outputId": "161838d4-9e23-445e-8457-2e13f9701a72"
      },
      "execution_count": null,
      "outputs": [
        {
          "output_type": "stream",
          "name": "stdout",
          "text": [
            "x    1\n",
            "y    2\n",
            "z    3\n",
            "dtype: int64\n"
          ]
        }
      ]
    },
    {
      "cell_type": "code",
      "source": [
        "# Series from np array\n",
        "arr = np.array([1,2,3,4,5])\n",
        "\n",
        "series = pd.Series(arr,index=[\"a\",\"b\",\"c\",\"d\",\"e\"])\n",
        "\n",
        "print(series[0])"
      ],
      "metadata": {
        "colab": {
          "base_uri": "https://localhost:8080/"
        },
        "id": "wjeZwkVylECS",
        "outputId": "e6288c85-0cf1-4f83-837d-5b45f286ba5b"
      },
      "execution_count": null,
      "outputs": [
        {
          "output_type": "stream",
          "name": "stdout",
          "text": [
            "1\n"
          ]
        }
      ]
    },
    {
      "cell_type": "code",
      "source": [
        "print(series[\"c\"])"
      ],
      "metadata": {
        "colab": {
          "base_uri": "https://localhost:8080/"
        },
        "id": "iWgOcpT1lYoS",
        "outputId": "866efea8-764a-47bc-8cab-530f3eb4685c"
      },
      "execution_count": null,
      "outputs": [
        {
          "output_type": "stream",
          "name": "stdout",
          "text": [
            "3\n"
          ]
        }
      ]
    },
    {
      "cell_type": "code",
      "source": [
        "print(series[:3])"
      ],
      "metadata": {
        "colab": {
          "base_uri": "https://localhost:8080/"
        },
        "id": "Ve7ftqOPkWl8",
        "outputId": "344722a5-5594-4876-fb16-c5c0fae813ba"
      },
      "execution_count": null,
      "outputs": [
        {
          "output_type": "stream",
          "name": "stdout",
          "text": [
            "a    1\n",
            "b    2\n",
            "c    3\n",
            "dtype: int64\n"
          ]
        }
      ]
    },
    {
      "cell_type": "code",
      "source": [
        "# Data Frame\n",
        "data = {\n",
        "    \"Name\":[\"Sanjay\",\"Rahul\",\"Kumar\"],\n",
        "    \"Marks(100)\":[95,87,91]\n",
        "}\n",
        "\n",
        "df = pd.DataFrame(data,index=[\"a\",\"b\",\"c\"])\n",
        "df"
      ],
      "metadata": {
        "colab": {
          "base_uri": "https://localhost:8080/",
          "height": 143
        },
        "id": "bUOokrrFp9Fc",
        "outputId": "252ebe1c-0fd6-4f2f-84e3-e9a757ae878e"
      },
      "execution_count": null,
      "outputs": [
        {
          "output_type": "execute_result",
          "data": {
            "text/plain": [
              "     Name  Marks(100)\n",
              "a  Sanjay          95\n",
              "b   Rahul          87\n",
              "c   Kumar          91"
            ],
            "text/html": [
              "\n",
              "  <div id=\"df-c23f3943-d598-4323-b0f4-8698b1c38e11\">\n",
              "    <div class=\"colab-df-container\">\n",
              "      <div>\n",
              "<style scoped>\n",
              "    .dataframe tbody tr th:only-of-type {\n",
              "        vertical-align: middle;\n",
              "    }\n",
              "\n",
              "    .dataframe tbody tr th {\n",
              "        vertical-align: top;\n",
              "    }\n",
              "\n",
              "    .dataframe thead th {\n",
              "        text-align: right;\n",
              "    }\n",
              "</style>\n",
              "<table border=\"1\" class=\"dataframe\">\n",
              "  <thead>\n",
              "    <tr style=\"text-align: right;\">\n",
              "      <th></th>\n",
              "      <th>Name</th>\n",
              "      <th>Marks(100)</th>\n",
              "    </tr>\n",
              "  </thead>\n",
              "  <tbody>\n",
              "    <tr>\n",
              "      <th>a</th>\n",
              "      <td>Sanjay</td>\n",
              "      <td>95</td>\n",
              "    </tr>\n",
              "    <tr>\n",
              "      <th>b</th>\n",
              "      <td>Rahul</td>\n",
              "      <td>87</td>\n",
              "    </tr>\n",
              "    <tr>\n",
              "      <th>c</th>\n",
              "      <td>Kumar</td>\n",
              "      <td>91</td>\n",
              "    </tr>\n",
              "  </tbody>\n",
              "</table>\n",
              "</div>\n",
              "      <button class=\"colab-df-convert\" onclick=\"convertToInteractive('df-c23f3943-d598-4323-b0f4-8698b1c38e11')\"\n",
              "              title=\"Convert this dataframe to an interactive table.\"\n",
              "              style=\"display:none;\">\n",
              "        \n",
              "  <svg xmlns=\"http://www.w3.org/2000/svg\" height=\"24px\"viewBox=\"0 0 24 24\"\n",
              "       width=\"24px\">\n",
              "    <path d=\"M0 0h24v24H0V0z\" fill=\"none\"/>\n",
              "    <path d=\"M18.56 5.44l.94 2.06.94-2.06 2.06-.94-2.06-.94-.94-2.06-.94 2.06-2.06.94zm-11 1L8.5 8.5l.94-2.06 2.06-.94-2.06-.94L8.5 2.5l-.94 2.06-2.06.94zm10 10l.94 2.06.94-2.06 2.06-.94-2.06-.94-.94-2.06-.94 2.06-2.06.94z\"/><path d=\"M17.41 7.96l-1.37-1.37c-.4-.4-.92-.59-1.43-.59-.52 0-1.04.2-1.43.59L10.3 9.45l-7.72 7.72c-.78.78-.78 2.05 0 2.83L4 21.41c.39.39.9.59 1.41.59.51 0 1.02-.2 1.41-.59l7.78-7.78 2.81-2.81c.8-.78.8-2.07 0-2.86zM5.41 20L4 18.59l7.72-7.72 1.47 1.35L5.41 20z\"/>\n",
              "  </svg>\n",
              "      </button>\n",
              "      \n",
              "  <style>\n",
              "    .colab-df-container {\n",
              "      display:flex;\n",
              "      flex-wrap:wrap;\n",
              "      gap: 12px;\n",
              "    }\n",
              "\n",
              "    .colab-df-convert {\n",
              "      background-color: #E8F0FE;\n",
              "      border: none;\n",
              "      border-radius: 50%;\n",
              "      cursor: pointer;\n",
              "      display: none;\n",
              "      fill: #1967D2;\n",
              "      height: 32px;\n",
              "      padding: 0 0 0 0;\n",
              "      width: 32px;\n",
              "    }\n",
              "\n",
              "    .colab-df-convert:hover {\n",
              "      background-color: #E2EBFA;\n",
              "      box-shadow: 0px 1px 2px rgba(60, 64, 67, 0.3), 0px 1px 3px 1px rgba(60, 64, 67, 0.15);\n",
              "      fill: #174EA6;\n",
              "    }\n",
              "\n",
              "    [theme=dark] .colab-df-convert {\n",
              "      background-color: #3B4455;\n",
              "      fill: #D2E3FC;\n",
              "    }\n",
              "\n",
              "    [theme=dark] .colab-df-convert:hover {\n",
              "      background-color: #434B5C;\n",
              "      box-shadow: 0px 1px 3px 1px rgba(0, 0, 0, 0.15);\n",
              "      filter: drop-shadow(0px 1px 2px rgba(0, 0, 0, 0.3));\n",
              "      fill: #FFFFFF;\n",
              "    }\n",
              "  </style>\n",
              "\n",
              "      <script>\n",
              "        const buttonEl =\n",
              "          document.querySelector('#df-c23f3943-d598-4323-b0f4-8698b1c38e11 button.colab-df-convert');\n",
              "        buttonEl.style.display =\n",
              "          google.colab.kernel.accessAllowed ? 'block' : 'none';\n",
              "\n",
              "        async function convertToInteractive(key) {\n",
              "          const element = document.querySelector('#df-c23f3943-d598-4323-b0f4-8698b1c38e11');\n",
              "          const dataTable =\n",
              "            await google.colab.kernel.invokeFunction('convertToInteractive',\n",
              "                                                     [key], {});\n",
              "          if (!dataTable) return;\n",
              "\n",
              "          const docLinkHtml = 'Like what you see? Visit the ' +\n",
              "            '<a target=\"_blank\" href=https://colab.research.google.com/notebooks/data_table.ipynb>data table notebook</a>'\n",
              "            + ' to learn more about interactive tables.';\n",
              "          element.innerHTML = '';\n",
              "          dataTable['output_type'] = 'display_data';\n",
              "          await google.colab.output.renderOutput(dataTable, element);\n",
              "          const docLink = document.createElement('div');\n",
              "          docLink.innerHTML = docLinkHtml;\n",
              "          element.appendChild(docLink);\n",
              "        }\n",
              "      </script>\n",
              "    </div>\n",
              "  </div>\n",
              "  "
            ]
          },
          "metadata": {},
          "execution_count": 64
        }
      ]
    },
    {
      "cell_type": "code",
      "source": [],
      "metadata": {
        "id": "ncoNVUTBugM0"
      },
      "execution_count": null,
      "outputs": []
    },
    {
      "cell_type": "code",
      "source": [
        "df.loc[\"a\"]"
      ],
      "metadata": {
        "id": "TCip1YQsrcn8",
        "colab": {
          "base_uri": "https://localhost:8080/"
        },
        "outputId": "c2572271-8c8e-4582-c284-d8a7ad43a24c"
      },
      "execution_count": null,
      "outputs": [
        {
          "output_type": "execute_result",
          "data": {
            "text/plain": [
              "Name          Sanjay\n",
              "Marks(100)        95\n",
              "Name: a, dtype: object"
            ]
          },
          "metadata": {},
          "execution_count": 65
        }
      ]
    },
    {
      "cell_type": "code",
      "source": [
        "df.iloc[0]"
      ],
      "metadata": {
        "colab": {
          "base_uri": "https://localhost:8080/"
        },
        "id": "S2DGLOcuo0Iw",
        "outputId": "529f48a0-9203-473a-a051-e9eb00be0d31"
      },
      "execution_count": null,
      "outputs": [
        {
          "output_type": "execute_result",
          "data": {
            "text/plain": [
              "Name          Sanjay\n",
              "Marks(100)        95\n",
              "Name: a, dtype: object"
            ]
          },
          "metadata": {},
          "execution_count": 66
        }
      ]
    },
    {
      "cell_type": "code",
      "source": [
        "# Series 1\n",
        "roll_name = {1:\"Sanjay\",2:\"Rahul\",3:\"Kumar\"}\n",
        "ser1 = pd.Series(roll_name)\n",
        "print(ser1)"
      ],
      "metadata": {
        "colab": {
          "base_uri": "https://localhost:8080/"
        },
        "id": "SWU6xp-IqZWu",
        "outputId": "96828ca2-2440-4039-b2d8-a444a587c49d"
      },
      "execution_count": null,
      "outputs": [
        {
          "output_type": "stream",
          "name": "stdout",
          "text": [
            "1    Sanjay\n",
            "2     Rahul\n",
            "3     Kumar\n",
            "dtype: object\n"
          ]
        }
      ]
    },
    {
      "cell_type": "code",
      "source": [
        "# Series 2\n",
        "roll_marks = {1:95,2:87,3:91}\n",
        "ser2 = pd.Series(roll_marks)\n",
        "print(ser2)"
      ],
      "metadata": {
        "colab": {
          "base_uri": "https://localhost:8080/"
        },
        "id": "Heu4oo57vMdh",
        "outputId": "db2a73d8-9fce-43e2-973d-ddec184330a0"
      },
      "execution_count": null,
      "outputs": [
        {
          "output_type": "stream",
          "name": "stdout",
          "text": [
            "1    95\n",
            "2    87\n",
            "3    91\n",
            "dtype: int64\n"
          ]
        }
      ]
    },
    {
      "cell_type": "code",
      "source": [
        "# Combining ser1 and ser2 into a Dataframe df\n",
        "df = pd.DataFrame({\"Name\":roll_name,\"Marks(100)\":roll_marks})\n",
        "df"
      ],
      "metadata": {
        "colab": {
          "base_uri": "https://localhost:8080/",
          "height": 143
        },
        "id": "fyD8IlETvO27",
        "outputId": "edfa8a6c-57bd-4b58-8166-cacf9a8ca2cf"
      },
      "execution_count": null,
      "outputs": [
        {
          "output_type": "execute_result",
          "data": {
            "text/plain": [
              "     Name  Marks(100)\n",
              "1  Sanjay          95\n",
              "2   Rahul          87\n",
              "3   Kumar          91"
            ],
            "text/html": [
              "\n",
              "  <div id=\"df-53b504eb-9d32-4808-9155-85ad54a9b338\">\n",
              "    <div class=\"colab-df-container\">\n",
              "      <div>\n",
              "<style scoped>\n",
              "    .dataframe tbody tr th:only-of-type {\n",
              "        vertical-align: middle;\n",
              "    }\n",
              "\n",
              "    .dataframe tbody tr th {\n",
              "        vertical-align: top;\n",
              "    }\n",
              "\n",
              "    .dataframe thead th {\n",
              "        text-align: right;\n",
              "    }\n",
              "</style>\n",
              "<table border=\"1\" class=\"dataframe\">\n",
              "  <thead>\n",
              "    <tr style=\"text-align: right;\">\n",
              "      <th></th>\n",
              "      <th>Name</th>\n",
              "      <th>Marks(100)</th>\n",
              "    </tr>\n",
              "  </thead>\n",
              "  <tbody>\n",
              "    <tr>\n",
              "      <th>1</th>\n",
              "      <td>Sanjay</td>\n",
              "      <td>95</td>\n",
              "    </tr>\n",
              "    <tr>\n",
              "      <th>2</th>\n",
              "      <td>Rahul</td>\n",
              "      <td>87</td>\n",
              "    </tr>\n",
              "    <tr>\n",
              "      <th>3</th>\n",
              "      <td>Kumar</td>\n",
              "      <td>91</td>\n",
              "    </tr>\n",
              "  </tbody>\n",
              "</table>\n",
              "</div>\n",
              "      <button class=\"colab-df-convert\" onclick=\"convertToInteractive('df-53b504eb-9d32-4808-9155-85ad54a9b338')\"\n",
              "              title=\"Convert this dataframe to an interactive table.\"\n",
              "              style=\"display:none;\">\n",
              "        \n",
              "  <svg xmlns=\"http://www.w3.org/2000/svg\" height=\"24px\"viewBox=\"0 0 24 24\"\n",
              "       width=\"24px\">\n",
              "    <path d=\"M0 0h24v24H0V0z\" fill=\"none\"/>\n",
              "    <path d=\"M18.56 5.44l.94 2.06.94-2.06 2.06-.94-2.06-.94-.94-2.06-.94 2.06-2.06.94zm-11 1L8.5 8.5l.94-2.06 2.06-.94-2.06-.94L8.5 2.5l-.94 2.06-2.06.94zm10 10l.94 2.06.94-2.06 2.06-.94-2.06-.94-.94-2.06-.94 2.06-2.06.94z\"/><path d=\"M17.41 7.96l-1.37-1.37c-.4-.4-.92-.59-1.43-.59-.52 0-1.04.2-1.43.59L10.3 9.45l-7.72 7.72c-.78.78-.78 2.05 0 2.83L4 21.41c.39.39.9.59 1.41.59.51 0 1.02-.2 1.41-.59l7.78-7.78 2.81-2.81c.8-.78.8-2.07 0-2.86zM5.41 20L4 18.59l7.72-7.72 1.47 1.35L5.41 20z\"/>\n",
              "  </svg>\n",
              "      </button>\n",
              "      \n",
              "  <style>\n",
              "    .colab-df-container {\n",
              "      display:flex;\n",
              "      flex-wrap:wrap;\n",
              "      gap: 12px;\n",
              "    }\n",
              "\n",
              "    .colab-df-convert {\n",
              "      background-color: #E8F0FE;\n",
              "      border: none;\n",
              "      border-radius: 50%;\n",
              "      cursor: pointer;\n",
              "      display: none;\n",
              "      fill: #1967D2;\n",
              "      height: 32px;\n",
              "      padding: 0 0 0 0;\n",
              "      width: 32px;\n",
              "    }\n",
              "\n",
              "    .colab-df-convert:hover {\n",
              "      background-color: #E2EBFA;\n",
              "      box-shadow: 0px 1px 2px rgba(60, 64, 67, 0.3), 0px 1px 3px 1px rgba(60, 64, 67, 0.15);\n",
              "      fill: #174EA6;\n",
              "    }\n",
              "\n",
              "    [theme=dark] .colab-df-convert {\n",
              "      background-color: #3B4455;\n",
              "      fill: #D2E3FC;\n",
              "    }\n",
              "\n",
              "    [theme=dark] .colab-df-convert:hover {\n",
              "      background-color: #434B5C;\n",
              "      box-shadow: 0px 1px 3px 1px rgba(0, 0, 0, 0.15);\n",
              "      filter: drop-shadow(0px 1px 2px rgba(0, 0, 0, 0.3));\n",
              "      fill: #FFFFFF;\n",
              "    }\n",
              "  </style>\n",
              "\n",
              "      <script>\n",
              "        const buttonEl =\n",
              "          document.querySelector('#df-53b504eb-9d32-4808-9155-85ad54a9b338 button.colab-df-convert');\n",
              "        buttonEl.style.display =\n",
              "          google.colab.kernel.accessAllowed ? 'block' : 'none';\n",
              "\n",
              "        async function convertToInteractive(key) {\n",
              "          const element = document.querySelector('#df-53b504eb-9d32-4808-9155-85ad54a9b338');\n",
              "          const dataTable =\n",
              "            await google.colab.kernel.invokeFunction('convertToInteractive',\n",
              "                                                     [key], {});\n",
              "          if (!dataTable) return;\n",
              "\n",
              "          const docLinkHtml = 'Like what you see? Visit the ' +\n",
              "            '<a target=\"_blank\" href=https://colab.research.google.com/notebooks/data_table.ipynb>data table notebook</a>'\n",
              "            + ' to learn more about interactive tables.';\n",
              "          element.innerHTML = '';\n",
              "          dataTable['output_type'] = 'display_data';\n",
              "          await google.colab.output.renderOutput(dataTable, element);\n",
              "          const docLink = document.createElement('div');\n",
              "          docLink.innerHTML = docLinkHtml;\n",
              "          element.appendChild(docLink);\n",
              "        }\n",
              "      </script>\n",
              "    </div>\n",
              "  </div>\n",
              "  "
            ]
          },
          "metadata": {},
          "execution_count": 69
        }
      ]
    },
    {
      "cell_type": "code",
      "source": [
        "df.index"
      ],
      "metadata": {
        "colab": {
          "base_uri": "https://localhost:8080/"
        },
        "id": "5Dnf5pVU1ZFl",
        "outputId": "05def695-13ad-4f76-c393-47421e62d997"
      },
      "execution_count": null,
      "outputs": [
        {
          "output_type": "execute_result",
          "data": {
            "text/plain": [
              "Int64Index([1, 2, 3], dtype='int64')"
            ]
          },
          "metadata": {},
          "execution_count": 70
        }
      ]
    },
    {
      "cell_type": "code",
      "source": [
        "df.columns"
      ],
      "metadata": {
        "colab": {
          "base_uri": "https://localhost:8080/"
        },
        "id": "Y-9mPe8b1aTK",
        "outputId": "90082762-a3db-45b8-abbf-a714f07ceb67"
      },
      "execution_count": null,
      "outputs": [
        {
          "output_type": "execute_result",
          "data": {
            "text/plain": [
              "Index(['Name', 'Marks(100)'], dtype='object')"
            ]
          },
          "metadata": {},
          "execution_count": 71
        }
      ]
    },
    {
      "cell_type": "code",
      "source": [
        "df.dtypes"
      ],
      "metadata": {
        "colab": {
          "base_uri": "https://localhost:8080/"
        },
        "id": "MK0QCwE_2XwH",
        "outputId": "b3e117d8-d02b-4370-ea57-c7e2a0ebc6a0"
      },
      "execution_count": null,
      "outputs": [
        {
          "output_type": "execute_result",
          "data": {
            "text/plain": [
              "Name          object\n",
              "Marks(100)     int64\n",
              "dtype: object"
            ]
          },
          "metadata": {},
          "execution_count": 72
        }
      ]
    },
    {
      "cell_type": "code",
      "source": [
        "df.shape"
      ],
      "metadata": {
        "colab": {
          "base_uri": "https://localhost:8080/"
        },
        "id": "HN3ch1Fq4jHP",
        "outputId": "8cdf9ef1-6efd-4de0-d92e-83e899c49cb5"
      },
      "execution_count": null,
      "outputs": [
        {
          "output_type": "execute_result",
          "data": {
            "text/plain": [
              "(3, 2)"
            ]
          },
          "metadata": {},
          "execution_count": 73
        }
      ]
    },
    {
      "cell_type": "code",
      "source": [
        "print(df.values)"
      ],
      "metadata": {
        "colab": {
          "base_uri": "https://localhost:8080/"
        },
        "id": "mKatZq5D2YZ5",
        "outputId": "dd3f91e6-f409-4f55-a977-0920cc6bbd4c"
      },
      "execution_count": null,
      "outputs": [
        {
          "output_type": "stream",
          "name": "stdout",
          "text": [
            "[['Sanjay' 95]\n",
            " ['Rahul' 87]\n",
            " ['Kumar' 91]]\n"
          ]
        }
      ]
    },
    {
      "cell_type": "code",
      "source": [
        "df.info(verbose=True)"
      ],
      "metadata": {
        "id": "AOlmzC0V2lKE",
        "colab": {
          "base_uri": "https://localhost:8080/"
        },
        "outputId": "dea9bd51-e7f8-4bb5-deac-7386cd664ff4"
      },
      "execution_count": null,
      "outputs": [
        {
          "output_type": "stream",
          "name": "stdout",
          "text": [
            "<class 'pandas.core.frame.DataFrame'>\n",
            "Int64Index: 3 entries, 1 to 3\n",
            "Data columns (total 2 columns):\n",
            " #   Column      Non-Null Count  Dtype \n",
            "---  ------      --------------  ----- \n",
            " 0   Name        3 non-null      object\n",
            " 1   Marks(100)  3 non-null      int64 \n",
            "dtypes: int64(1), object(1)\n",
            "memory usage: 72.0+ bytes\n"
          ]
        }
      ]
    },
    {
      "cell_type": "code",
      "source": [
        "df = pd.read_csv('imdb.csv')\n",
        "df"
      ],
      "metadata": {
        "id": "Z_Y2wxHb6gMG"
      },
      "execution_count": null,
      "outputs": []
    },
    {
      "cell_type": "code",
      "source": [
        "df = pd.read_excel('imdb.xlsx')\n",
        "df"
      ],
      "metadata": {
        "id": "b7QvL4tQ_jy4"
      },
      "execution_count": null,
      "outputs": []
    },
    {
      "cell_type": "code",
      "source": [
        "df.to_csv('myfile.csv')"
      ],
      "metadata": {
        "id": "lpB__UxyFJvE"
      },
      "execution_count": null,
      "outputs": []
    },
    {
      "cell_type": "code",
      "source": [
        "df.to_excel('myExcelFile.xlsx')"
      ],
      "metadata": {
        "id": "4CIaNJkSGPH6"
      },
      "execution_count": null,
      "outputs": []
    },
    {
      "cell_type": "code",
      "source": [
        "df.head(3)"
      ],
      "metadata": {
        "id": "USo-ZCgIGVA8"
      },
      "execution_count": null,
      "outputs": []
    },
    {
      "cell_type": "code",
      "source": [
        "df.tail(3)"
      ],
      "metadata": {
        "id": "GfsZLDvsHkxF"
      },
      "execution_count": null,
      "outputs": []
    },
    {
      "cell_type": "code",
      "source": [
        "# Selecting Rows with IMDB Rating > 8\n",
        "df.loc[df.IMDB_Rating > 8]"
      ],
      "metadata": {
        "id": "W6xOICltHlv3"
      },
      "execution_count": null,
      "outputs": []
    },
    {
      "cell_type": "code",
      "source": [
        "# Selecting the Top 3 Movies\n",
        "df.iloc[:3]"
      ],
      "metadata": {
        "id": "5eutwwaXNeNR"
      },
      "execution_count": null,
      "outputs": []
    },
    {
      "cell_type": "code",
      "source": [
        "# Prints the Statistical Description of the Dataframe\n",
        "df.describe()"
      ],
      "metadata": {
        "id": "WQ2iEjRvNiwd"
      },
      "execution_count": null,
      "outputs": []
    },
    {
      "cell_type": "code",
      "source": [
        "# Summary of the Dataframe\n",
        "df.info()"
      ],
      "metadata": {
        "id": "BMqb45gPP3Vd"
      },
      "execution_count": null,
      "outputs": []
    },
    {
      "cell_type": "code",
      "source": [
        "# Sampling 5 Movies from Dataframe\n",
        "df.sample(n=5,random_state=0)"
      ],
      "metadata": {
        "id": "6E-zdL86QC_Q"
      },
      "execution_count": null,
      "outputs": []
    },
    {
      "cell_type": "code",
      "source": [
        "# Dropping the Column Poster_Link as it is irrelevant\n",
        "df.drop(columns=['Poster_Link'],inplace=True)\n",
        "df"
      ],
      "metadata": {
        "id": "-g3cMFhwR7vw"
      },
      "execution_count": null,
      "outputs": []
    },
    {
      "cell_type": "code",
      "source": [
        "# Checking for Null Values(NaN) in df\n",
        "df.isna()"
      ],
      "metadata": {
        "id": "oPics0ZxUFlZ"
      },
      "execution_count": null,
      "outputs": []
    },
    {
      "cell_type": "code",
      "source": [
        "# Printing the Number of\n",
        "# Null Values in each column\n",
        "df.isna().sum()"
      ],
      "metadata": {
        "id": "k8Al2ASIVPgs"
      },
      "execution_count": null,
      "outputs": []
    },
    {
      "cell_type": "code",
      "source": [
        "# Dropping Rows having NaN\n",
        "newdf = df.dropna(axis='rows')\n",
        "newdf.tail()"
      ],
      "metadata": {
        "id": "eXaMxJmjWeOj"
      },
      "execution_count": null,
      "outputs": []
    },
    {
      "cell_type": "code",
      "source": [
        "# Resetting the Index of newdf\n",
        "newdf.reset_index(drop=True)"
      ],
      "metadata": {
        "id": "JIdZNl8-X3T2"
      },
      "execution_count": null,
      "outputs": []
    },
    {
      "cell_type": "code",
      "source": [
        "# Mean of IMDB_Rating Column\n",
        "df['IMDB_Rating'].mean()"
      ],
      "metadata": {
        "id": "pD6tBg-kZTWm"
      },
      "execution_count": null,
      "outputs": []
    },
    {
      "cell_type": "code",
      "source": [
        "# Median of IMDB_Rating Column\n",
        "df['IMDB_Rating'].median()"
      ],
      "metadata": {
        "id": "DDlsi9owapkp"
      },
      "execution_count": null,
      "outputs": []
    },
    {
      "cell_type": "code",
      "source": [
        "# Mode of Director Column\n",
        "df['Director'].mode()"
      ],
      "metadata": {
        "id": "z9_vpceEa_uU"
      },
      "execution_count": null,
      "outputs": []
    },
    {
      "cell_type": "code",
      "source": [
        "df.isna().sum()"
      ],
      "metadata": {
        "id": "f0JmO_qQdZm9"
      },
      "execution_count": null,
      "outputs": []
    },
    {
      "cell_type": "code",
      "source": [
        "df.dtypes\n"
      ],
      "metadata": {
        "id": "npHfCihAdxpL"
      },
      "execution_count": null,
      "outputs": []
    },
    {
      "cell_type": "code",
      "source": [
        "# Filling NaN Values of three Columns using Mean, Median, Mode\n",
        "df.fillna({'Certificate':df['Certificate'].mode()[0],\n",
        "           'Meta_score':df['Meta_score'].mean(),\n",
        "           'Gross':df['Gross'].median()},inplace=True)\n",
        "df.isna().sum()"
      ],
      "metadata": {
        "id": "M3ovSNS5bBv_"
      },
      "execution_count": null,
      "outputs": []
    },
    {
      "cell_type": "code",
      "source": [
        "df.info()"
      ],
      "metadata": {
        "id": "qOqo5G6VifYB"
      },
      "execution_count": null,
      "outputs": []
    },
    {
      "cell_type": "code",
      "source": [
        "# Finding Counts of each Unique\n",
        "# Element in Genre Column\n",
        "df['Genre'].value_counts()"
      ],
      "metadata": {
        "id": "yiVMe3MpkPYB"
      },
      "execution_count": null,
      "outputs": []
    },
    {
      "cell_type": "code",
      "source": [
        "# Grouping Movies by Genre and finding the mean\n",
        "df.groupby('Genre').mean()"
      ],
      "metadata": {
        "id": "8QZJ23qFdvAn"
      },
      "execution_count": null,
      "outputs": []
    },
    {
      "cell_type": "code",
      "source": [
        "# Unique Elements in Certificate Column\n",
        "df['Certificate'].unique()"
      ],
      "metadata": {
        "id": "L6ZdyHM_lzKe"
      },
      "execution_count": null,
      "outputs": []
    },
    {
      "cell_type": "code",
      "source": [
        "# Number of Unique Elements\n",
        "# in Each column\n",
        "df.nunique()"
      ],
      "metadata": {
        "id": "n1-n_35VhnQp"
      },
      "execution_count": null,
      "outputs": []
    },
    {
      "cell_type": "code",
      "source": [
        "df"
      ],
      "metadata": {
        "id": "tzWkGB4uneNz"
      },
      "execution_count": null,
      "outputs": []
    },
    {
      "cell_type": "code",
      "source": [
        "# 10 Smallest Meta Score Movies\n",
        "df.nsmallest(10,columns=['Meta_score']).loc[:,['Series_Title','Released_Year','IMDB_Rating','Director','Gross','Meta_score']]"
      ],
      "metadata": {
        "id": "osjq7NQmhvYK"
      },
      "execution_count": null,
      "outputs": []
    },
    {
      "cell_type": "markdown",
      "source": [
        "## **Matplotlib**"
      ],
      "metadata": {
        "id": "x74270-TbPkx"
      }
    },
    {
      "cell_type": "code",
      "execution_count": null,
      "metadata": {
        "id": "syxVgMdqBUBW"
      },
      "outputs": [],
      "source": [
        "import matplotlib.pyplot as plt\n",
        "import numpy as np"
      ]
    },
    {
      "cell_type": "markdown",
      "source": [
        "\n",
        "\n",
        "Functional plot\n",
        "\n",
        "\n"
      ],
      "metadata": {
        "id": "PB1_uVWWHV9I"
      }
    },
    {
      "cell_type": "code",
      "source": [
        "# Create x & y NumPy arrays (10 Floats from 0 to 5)\n",
        "# Any NumPy array will do for x & y points as long as you have \n",
        "# an equal number \n",
        "x_1 = np.linspace(0,5,10)\n",
        "y_1 = x_1**2\n",
        "# Display plot with x & y\n",
        "plt.plot(x_1, y_1)\n",
        "\n",
        "# Add a title\n",
        "plt.title('x vs x^2')\n",
        "# Add an X & Y Label\n",
        "plt.xlabel('x')\n",
        "plt.ylabel('y')\n",
        "plt.show()"
      ],
      "metadata": {
        "id": "UB1VFPXOBgDx",
        "colab": {
          "base_uri": "https://localhost:8080/",
          "height": 299
        },
        "outputId": "c982eb10-5f3d-4732-d3f2-716991adb07a"
      },
      "execution_count": null,
      "outputs": [
        {
          "output_type": "display_data",
          "data": {
            "text/plain": [
              "<Figure size 432x288 with 1 Axes>"
            ],
            "image/png": "[encoded data removed]"
          },
          "metadata": {}
        }
      ]
    },
    {
      "cell_type": "code",
      "source": [
        "x_2 = np.linspace(-np.pi,np.pi,50)\n",
        "y_2 = np.sin(x_2)\n",
        "plt.plot(x_2,y_2)\n"
      ],
      "metadata": {
        "id": "Ck2lk-gCjfgR",
        "colab": {
          "base_uri": "https://localhost:8080/",
          "height": 282
        },
        "outputId": "bd4de405-f8c4-4a8f-d3d7-c8f3a724f96a"
      },
      "execution_count": null,
      "outputs": [
        {
          "output_type": "execute_result",
          "data": {
            "text/plain": [
              "[<matplotlib.lines.Line2D at 0x7f092c2d72b0>]"
            ]
          },
          "metadata": {},
          "execution_count": 14
        },
        {
          "output_type": "display_data",
          "data": {
            "text/plain": [
              "<Figure size 432x288 with 1 Axes>"
            ],
            "image/png": "[encoded data removed]"
          },
          "metadata": {}
        }
      ]
    },
    {
      "cell_type": "code",
      "source": [
        "#Plot a function of your choice:\n",
        "x_3 = \n",
        "y_3 ="
      ],
      "metadata": {
        "id": "Fp6C4GLbkZyv"
      },
      "execution_count": null,
      "outputs": []
    },
    {
      "cell_type": "markdown",
      "source": [
        "Multiple Plots\n"
      ],
      "metadata": {
        "id": "-KFQYKD_HcX3"
      }
    },
    {
      "cell_type": "code",
      "source": [
        "plt.plot(x_1, y_1,'b')\n",
        "plt.plot(x_2,y_2,'k')\n",
        "# Add a title\n",
        "plt.title('Multiple plots: sinx and x^2 ')\n",
        "# Add an X & Y Label\n",
        "plt.xlabel('x')\n",
        "plt.ylabel('y')"
      ],
      "metadata": {
        "id": "49TH5MnkHBnt",
        "colab": {
          "base_uri": "https://localhost:8080/",
          "height": 316
        },
        "outputId": "44fe9d9c-1eaa-4017-c5cb-8f01cf5441ca"
      },
      "execution_count": null,
      "outputs": [
        {
          "output_type": "execute_result",
          "data": {
            "text/plain": [
              "Text(0, 0.5, 'y')"
            ]
          },
          "metadata": {},
          "execution_count": 15
        },
        {
          "output_type": "display_data",
          "data": {
            "text/plain": [
              "<Figure size 432x288 with 1 Axes>"
            ],
            "image/png": "[encoded data removed]"
          },
          "metadata": {}
        }
      ]
    },
    {
      "cell_type": "markdown",
      "source": [
        " Figure objects"
      ],
      "metadata": {
        "id": "Gzlt2I1XMkyp"
      }
    },
    {
      "cell_type": "code",
      "source": [
        "# A figure is an object that contains all the plot elements\n",
        "# It can contain many axes\n",
        "# Define width & height in inches\n",
        "# Dots per inch\n",
        "fig_1 = plt.figure(figsize=(5,4),dpi=100)\n",
        "\n",
        "# Adds axes with a left, bottom, width and height that ranges from 0 to 1\n",
        "# which is the percent of the canvas you want to use\n",
        "axes_1 = fig_1.add_axes([0.1,0.1,0.9,0.9])\n",
        "\n",
        "# Set lables and title\n",
        "axes_1.set_xlabel('x')\n",
        "axes_1.set_ylabel('y')\n",
        "axes_1.set_title('x^2 Vs x')\n",
        "# Plot on the axes (If you want a label associated with the legend\n",
        "# add it with label)\n",
        "axes_1.plot(x_1,y_1,label='x / x²')\n",
        "\n",
        "\n",
        "# You can plot to plots using the same axes\n",
        "axes_1.plot(x_1,x_1,label='x  / x')\n",
        "\n",
        "# Add the optional legend with a location number (best: 0, \n",
        "# upper right: 1, upper left: 2, lower left: 3, lower right: 4,\n",
        "\n",
        "axes_1.legend(loc=0)\n",
        "\n",
        "# You can create axis inside of others\n",
        "axes_2 = fig_1.add_axes([0.45,0.45,0.4,0.3])\n",
        "axes_2.set_xlabel('x_')\n",
        "axes_2.set_ylabel('y_')\n",
        "axes_2.set_title('x_ vs y_')\n",
        "axes_2.plot(x_1,y_1,'r')\n",
        "\n",
        "# Add text to plot from central point of 0,0\n",
        "axes_2.text(0, 40, 'Message')"
      ],
      "metadata": {
        "id": "_fqrjnG7M0fW",
        "colab": {
          "base_uri": "https://localhost:8080/",
          "height": 484
        },
        "outputId": "e7210846-e786-41cc-b1c7-ecbb9ed694f1"
      },
      "execution_count": null,
      "outputs": [
        {
          "output_type": "execute_result",
          "data": {
            "text/plain": [
              "Text(0, 40, 'Message')"
            ]
          },
          "metadata": {},
          "execution_count": 16
        },
        {
          "output_type": "display_data",
          "data": {
            "text/plain": [
              "<Figure size 500x400 with 2 Axes>"
            ],
            "image/png": "[encoded data removed]"
          },
          "metadata": {}
        }
      ]
    },
    {
      "cell_type": "markdown",
      "source": [
        "Subplots"
      ],
      "metadata": {
        "id": "5qTG4eW0IhdZ"
      }
    },
    {
      "cell_type": "code",
      "source": [
        "# You can define multiple plots with subplots and it handles creating\n",
        "# the axes objects\n",
        "# axes_2 is a list of axes objects\n",
        "fig_2, axes_2 = plt.subplots(figsize=(8,4), nrows=1, ncols=3)\n",
        "#  What happens if nrows = 2 and ncols = 2\n",
        "\n",
        "# Put space between plots\n",
        "plt.tight_layout()\n",
        "\n",
        "# You can access the plots by index\n",
        "axes_2[1].set_title('Plot 2')\n",
        "axes_2[1].set_xlabel('X')\n",
        "axes_2[1].set_ylabel('X Squared')\n",
        "axes_2[1].plot(x_1,y_1)\n",
        "\n",
        "axes_2[0].set_title('Plot 1')\n",
        "axes_2[0].set_xlabel('X')\n",
        "axes_2[0].set_ylabel('X Squared')\n",
        "axes_2[0].plot(x_1,x_1**2 + x_1)\n",
        "\n",
        "axes_2[2].set_title('Plot 3')\n",
        "axes_2[2].set_xlabel('X')\n",
        "axes_2[2].set_ylabel('X Squared')\n",
        "axes_2[2].plot(x_1,-x_1**2)\n",
        "\n"
      ],
      "metadata": {
        "id": "q8NkQ6EjImTq",
        "colab": {
          "base_uri": "https://localhost:8080/",
          "height": 344
        },
        "outputId": "4ca3a7b4-ec8e-4eaa-b8c2-4f9cc32e525f"
      },
      "execution_count": null,
      "outputs": [
        {
          "output_type": "execute_result",
          "data": {
            "text/plain": [
              "[<matplotlib.lines.Line2D at 0x7f0921f85c40>]"
            ]
          },
          "metadata": {},
          "execution_count": 17
        },
        {
          "output_type": "display_data",
          "data": {
            "text/plain": [
              "<Figure size 576x288 with 3 Axes>"
            ],
            "image/png": "[encoded data removed]"
          },
          "metadata": {}
        }
      ]
    },
    {
      "cell_type": "markdown",
      "source": [
        "Appearance Options"
      ],
      "metadata": {
        "id": "nCny0hchGnOQ"
      }
    },
    {
      "cell_type": "code",
      "source": [
        "fig_3 = plt.figure(figsize=(6,4))\n",
        "axes_3 = fig_3.add_axes([0,0,1,1])\n",
        "\n",
        "# Default colors (b: blue, g: green, r: red, c: cyan, m: magenta,\n",
        "# y: yellow, k: black, w: white)\n",
        "# color=\"0.75\" creates a 75% gray\n",
        "# You can use hexcodes color=\"#eeefff\"\n",
        "# You can use color names found next like this color=\"burlywood\"\n",
        "# https://en.wikipedia.org/wiki/Web_colors\n",
        "# alpha defines the percentage of opacity\n",
        "\n",
        "# The default line width is 1, so to double it put in 2 and so forth\n",
        "\n",
        "# There are many line styles \n",
        "# matplotlib.org/3.1.0/gallery/lines_bars_and_markers/linestyles.html\n",
        "# You can also provide a sample like '-.'\n",
        "\n",
        "# Markers can mark your provided points on the graph\n",
        "# https://matplotlib.org/3.3.0/api/markers_api.html\n",
        "# You can change the markersize as well\n",
        "\n",
        "# markerfacecolor changes the marker fill color\n",
        "# markeredgecolor changes the marker stroke color\n",
        "# markeredgewidth changes the markers stroke size\n",
        "\n",
        "axes_3.plot(x_1,y_1,color='navy', alpha=.75, lw=2, ls='-.',\n",
        "           marker='o', markersize=7, markerfacecolor='y',\n",
        "           markeredgecolor='y', markeredgewidth=4)\n",
        "\n",
        "\n"
      ],
      "metadata": {
        "id": "8BazTmPmGmdJ",
        "colab": {
          "base_uri": "https://localhost:8080/",
          "height": 353
        },
        "outputId": "f50f6412-3ad3-445b-fa85-87308c04135b"
      },
      "execution_count": null,
      "outputs": [
        {
          "output_type": "execute_result",
          "data": {
            "text/plain": [
              "[<matplotlib.lines.Line2D at 0x7f0921f0d400>]"
            ]
          },
          "metadata": {},
          "execution_count": 18
        },
        {
          "output_type": "display_data",
          "data": {
            "text/plain": [
              "<Figure size 432x288 with 1 Axes>"
            ],
            "image/png": "[encoded data removed]"
          },
          "metadata": {}
        }
      ]
    },
    {
      "cell_type": "code",
      "source": [
        "fig_3 = plt.figure(figsize=(6,4))\n",
        "axes_3 = fig_3.add_axes([0,0,1,1])\n",
        "\n",
        "axes_3.plot(x_1,y_1,color='navy', alpha=.75, lw=2, ls='-.',\n",
        "           marker='o', markersize=7, markerfacecolor='y',\n",
        "           markeredgecolor='y', markeredgewidth=4)\n",
        "\n",
        "\n",
        "# Set the lower and upper bound of x & y axis\n",
        "axes_3.set_xlim([0,3])\n",
        "axes_3.set_ylim([0,8])"
      ],
      "metadata": {
        "id": "KV7PbK2MmB8v",
        "colab": {
          "base_uri": "https://localhost:8080/",
          "height": 357
        },
        "outputId": "4e1cd35e-7145-4590-cadb-eb52073474ef"
      },
      "execution_count": null,
      "outputs": [
        {
          "output_type": "execute_result",
          "data": {
            "text/plain": [
              "(0.0, 8.0)"
            ]
          },
          "metadata": {},
          "execution_count": 19
        },
        {
          "output_type": "display_data",
          "data": {
            "text/plain": [
              "<Figure size 432x288 with 1 Axes>"
            ],
            "image/png": "[encoded data removed]"
          },
          "metadata": {}
        }
      ]
    },
    {
      "cell_type": "code",
      "source": [
        "fig_3 = plt.figure(figsize=(6,4))\n",
        "axes_3 = fig_3.add_axes([0,0,1,1])\n",
        "\n",
        "axes_3.plot(x_1,y_1,color='navy', alpha=.75, lw=2, ls='-.',\n",
        "           marker='o', markersize=7, markerfacecolor='y',\n",
        "           markeredgecolor='y', markeredgewidth=4)\n",
        "\n",
        "# Add a grid, color, dashes(5pts 1 pt dashes separated by 2pt space)\n",
        "axes_3.grid(True, color='0.6', dashes=(5, 2, 1, 2))\n",
        "# Set grid background color\n",
        "axes_3.set_facecolor('k')"
      ],
      "metadata": {
        "id": "HAz_VRqlmCJs",
        "colab": {
          "base_uri": "https://localhost:8080/",
          "height": 336
        },
        "outputId": "f062ae82-46f9-4317-dd6f-b6d8bcb5859f"
      },
      "execution_count": null,
      "outputs": [
        {
          "output_type": "display_data",
          "data": {
            "text/plain": [
              "<Figure size 432x288 with 1 Axes>"
            ],
            "image/png": "[encoded data removed]"
          },
          "metadata": {}
        }
      ]
    },
    {
      "cell_type": "markdown",
      "source": [
        "TeX Markup"
      ],
      "metadata": {
        "id": "IbjacKWsG1Ns"
      }
    },
    {
      "cell_type": "code",
      "source": [
        "# You can use a subset of TeX markup by placing text between $\n",
        "# matplotlib.org/tutorials/text/mathtext.html\n",
        "fig_5 = plt.figure(figsize=(5,4),dpi=100)\n",
        "axes_5 = fig_5.add_axes([0.1,0.1,0.9,0.9])\n",
        "\n",
        "# All listed plus kappa, iota, zeta, nu, rho, eta, xi, omicron, gamma, tau, phi, \n",
        "# chi, psi, delta (Capitalize the first letter for uppercase)\n",
        "axes_5.text(0, 23, \n",
        "            r'$\\alpha \\beta \\sigma \\omega \\epsilon \\mu \\pi \\theta \\lambda$', fontsize=18)\n",
        "# Subscripts, multiletter superscript, sum, fractions, binomial\n",
        "axes_5.text(0, 18, \n",
        "            r'$\\delta_i \\gamma^{ij} \\sum_{i=0}^\\infty x_i \\frac{3}{4} \\binom{3}{4}$', \n",
        "            fontsize=18)\n",
        "# Another fraction, sqrt, cbrt, trig functions : \n",
        "axes_5.text(0, 13, \n",
        "            r'$\\frac{8 - \\frac{x}{5}}{8} \\sqrt{9} \\sin(\\pi) \\sqrt[3]{8} \\acute a \\div$', \n",
        "            fontsize=18)\n",
        "axes_5.text(0, 8, \n",
        "            r'$\\bar a \\hat a \\tilde a \\vec a \\overline {a} \\lim_{x \\to 2} f(x) = 5$', \n",
        "            fontsize=18)\n",
        "axes_5.text(0, 3, \n",
        "            r'$\\geq \\leq \\ne$', \n",
        "            fontsize=18)\n",
        "axes_5.plot(x_1,y_1)"
      ],
      "metadata": {
        "id": "R2bDg-1rG5Ex",
        "colab": {
          "base_uri": "https://localhost:8080/",
          "height": 437
        },
        "outputId": "ae7ea9b3-8883-4515-ec0f-a029b30f316a"
      },
      "execution_count": null,
      "outputs": [
        {
          "output_type": "execute_result",
          "data": {
            "text/plain": [
              "[<matplotlib.lines.Line2D at 0x7f0921d7a940>]"
            ]
          },
          "metadata": {},
          "execution_count": 22
        },
        {
          "output_type": "display_data",
          "data": {
            "text/plain": [
              "<Figure size 500x400 with 1 Axes>"
            ],
            "image/png": "[encoded data removed]"
          },
          "metadata": {}
        }
      ]
    },
    {
      "cell_type": "markdown",
      "source": [
        "Histogram"
      ],
      "metadata": {
        "id": "OgAxTPcdGGZU"
      }
    },
    {
      "cell_type": "code",
      "source": [
        "blood_sugar = [113, 85, 90, 150, 149, 88, 93, 115, 135, 80, 77, 82, 129]\n",
        "plt.hist(blood_sugar, rwidth=0.8) # by default number of bins is set to 10"
      ],
      "metadata": {
        "id": "tBnnfGDmoGsR",
        "colab": {
          "base_uri": "https://localhost:8080/",
          "height": 334
        },
        "outputId": "b07b914c-cc4a-4bba-e806-47cd5418be22"
      },
      "execution_count": null,
      "outputs": [
        {
          "output_type": "execute_result",
          "data": {
            "text/plain": [
              "(array([3., 3., 1., 0., 1., 1., 0., 2., 0., 2.]),\n",
              " array([ 77. ,  84.3,  91.6,  98.9, 106.2, 113.5, 120.8, 128.1, 135.4,\n",
              "        142.7, 150. ]),\n",
              " <BarContainer object of 10 artists>)"
            ]
          },
          "metadata": {},
          "execution_count": 23
        },
        {
          "output_type": "display_data",
          "data": {
            "text/plain": [
              "<Figure size 432x288 with 1 Axes>"
            ],
            "image/png": "[encoded data removed]"
          },
          "metadata": {}
        }
      ]
    },
    {
      "cell_type": "code",
      "source": [
        "#bins parameter\n",
        "plt.hist(blood_sugar,rwidth=0.5,bins=4)"
      ],
      "metadata": {
        "id": "M3_-tBauoGil",
        "colab": {
          "base_uri": "https://localhost:8080/",
          "height": 317
        },
        "outputId": "235a1e73-af32-4f15-b0c9-3bc99fd20907"
      },
      "execution_count": null,
      "outputs": [
        {
          "output_type": "execute_result",
          "data": {
            "text/plain": [
              "(array([7., 1., 2., 3.]),\n",
              " array([ 77.  ,  95.25, 113.5 , 131.75, 150.  ]),\n",
              " <BarContainer object of 4 artists>)"
            ]
          },
          "metadata": {},
          "execution_count": 24
        },
        {
          "output_type": "display_data",
          "data": {
            "text/plain": [
              "<Figure size 432x288 with 1 Axes>"
            ],
            "image/png": "[encoded data removed]"
          },
          "metadata": {}
        }
      ]
    },
    {
      "cell_type": "markdown",
      "source": [
        "\n",
        "\n",
        "*   80-100: Normal\n",
        "*   100-125: Pre-diabetic\n",
        "*   80-100: Diabetic\n",
        "\n",
        "\n",
        "\n",
        "\n",
        "\n",
        "\n"
      ],
      "metadata": {
        "id": "CCO0dRbkoW0F"
      }
    },
    {
      "cell_type": "code",
      "source": [
        "plt.xlabel(\"Sugar Level\")\n",
        "plt.ylabel(\"Number Of Patients\")\n",
        "plt.title(\"Blood Sugar Chart\")\n",
        "\n",
        "plt.hist(blood_sugar, bins=[80,100,125,150], rwidth=0.95, color='g')"
      ],
      "metadata": {
        "id": "VmDhymY1oGXZ",
        "colab": {
          "base_uri": "https://localhost:8080/",
          "height": 351
        },
        "outputId": "8bd54b22-4496-4399-add8-c8986b0afc6b"
      },
      "execution_count": null,
      "outputs": [
        {
          "output_type": "execute_result",
          "data": {
            "text/plain": [
              "(array([6., 2., 4.]),\n",
              " array([ 80., 100., 125., 150.]),\n",
              " <BarContainer object of 3 artists>)"
            ]
          },
          "metadata": {},
          "execution_count": 25
        },
        {
          "output_type": "display_data",
          "data": {
            "text/plain": [
              "<Figure size 432x288 with 1 Axes>"
            ],
            "image/png": "[encoded data removed]"
          },
          "metadata": {}
        }
      ]
    },
    {
      "cell_type": "markdown",
      "source": [
        "Bar Charts"
      ],
      "metadata": {
        "id": "jltqq-U3ITwr"
      }
    },
    {
      "cell_type": "code",
      "source": [
        "company=['GOOGL','AMZN','MSFT','FB']\n",
        "revenue=[90,136,89,27]\n"
      ],
      "metadata": {
        "id": "IeM5m4GgpgaD"
      },
      "execution_count": null,
      "outputs": []
    },
    {
      "cell_type": "code",
      "source": [
        "xpos = np.arange(len(company))\n",
        "xpos"
      ],
      "metadata": {
        "colab": {
          "base_uri": "https://localhost:8080/"
        },
        "id": "oZ4yW1oXpguZ",
        "outputId": "c5540d8d-23e9-4fc0-aae1-d3f901706ae2"
      },
      "execution_count": null,
      "outputs": [
        {
          "output_type": "execute_result",
          "data": {
            "text/plain": [
              "array([0, 1, 2, 3])"
            ]
          },
          "metadata": {},
          "execution_count": 27
        }
      ]
    },
    {
      "cell_type": "code",
      "source": [
        "plt.bar(xpos,revenue, label=\"Revenue\")\n",
        "\n",
        "plt.xticks(xpos,company)\n",
        "plt.ylabel(\"Revenue(Bln)\")\n",
        "plt.title('US Technology Stocks')\n",
        "plt.legend()"
      ],
      "metadata": {
        "id": "0rFzPDtKpons",
        "colab": {
          "base_uri": "https://localhost:8080/",
          "height": 299
        },
        "outputId": "595eec84-aa4e-45f4-d74a-c1adacb63977"
      },
      "execution_count": null,
      "outputs": [
        {
          "output_type": "execute_result",
          "data": {
            "text/plain": [
              "<matplotlib.legend.Legend at 0x7f0921b0f190>"
            ]
          },
          "metadata": {},
          "execution_count": 30
        },
        {
          "output_type": "display_data",
          "data": {
            "text/plain": [
              "<Figure size 432x288 with 1 Axes>"
            ],
            "image/png": "[encoded data removed]"
          },
          "metadata": {}
        }
      ]
    },
    {
      "cell_type": "code",
      "source": [
        "profit=[40,2,34,12]\n",
        "plt.bar(xpos-0.2,revenue, width=0.4, label=\"Revenue\")\n",
        "plt.bar(xpos+0.2,profit, width=0.4,label=\"Profit\")\n",
        "\n",
        "plt.xticks(xpos,company)\n",
        "plt.ylabel(\"Revenue(Bln)\")\n",
        "plt.title('US Technology Stocks')\n",
        "plt.legend()"
      ],
      "metadata": {
        "id": "UKNoxQ4fprpB",
        "colab": {
          "base_uri": "https://localhost:8080/",
          "height": 299
        },
        "outputId": "0881d000-7ebb-4013-d547-041951d61a93"
      },
      "execution_count": null,
      "outputs": [
        {
          "output_type": "execute_result",
          "data": {
            "text/plain": [
              "<matplotlib.legend.Legend at 0x7f0921ac9af0>"
            ]
          },
          "metadata": {},
          "execution_count": 31
        },
        {
          "output_type": "display_data",
          "data": {
            "text/plain": [
              "<Figure size 432x288 with 1 Axes>"
            ],
            "image/png": "[encoded data removed]"
          },
          "metadata": {}
        }
      ]
    },
    {
      "cell_type": "code",
      "source": [
        "plt.barh(xpos,revenue, label=\"Revenue\")\n",
        "\n",
        "plt.yticks(xpos,company)\n",
        "plt.ylabel(\"Revenue(Bln)\")\n",
        "plt.title('US Technolog Stocks')\n",
        "plt.legend()"
      ],
      "metadata": {
        "id": "5xeL8Qzzpryo",
        "colab": {
          "base_uri": "https://localhost:8080/",
          "height": 299
        },
        "outputId": "71bfbea8-40e9-4cb2-8cf8-cc49db609f1e"
      },
      "execution_count": null,
      "outputs": [
        {
          "output_type": "execute_result",
          "data": {
            "text/plain": [
              "<matplotlib.legend.Legend at 0x7f0921a6dcd0>"
            ]
          },
          "metadata": {},
          "execution_count": 32
        },
        {
          "output_type": "display_data",
          "data": {
            "text/plain": [
              "<Figure size 432x288 with 1 Axes>"
            ],
            "image/png": "[encoded data removed]"
          },
          "metadata": {}
        }
      ]
    },
    {
      "cell_type": "markdown",
      "source": [
        "Scatterplots\n"
      ],
      "metadata": {
        "id": "n3hFuRjNK4xk"
      }
    },
    {
      "cell_type": "code",
      "source": [
        "# Country array\n",
        "cnt_arr = np.array(['Australia','Brazil','Canada','Chile','France','Germany','Greece',\n",
        "                   'Iceland','India','Iran','Italy','Mexico','New Zealand','Nigeria',\n",
        "                   'Norway','Pakistan','Peru','Russia','Saudi Arabia','Singapore',\n",
        "                   'South Africa','Spain','Sweden','Turkey','UK','US'])\n",
        "# Death rate per 100k Coronavirus\n",
        "dr_arr = np.array([1.8,53,24.5,56.5,45.4,11.2,2.2,\n",
        "                   2.8,4,24.6,58.6,46.3,.5,.5,\n",
        "                   4.9,2.9,83.3,11,10.4,.5,\n",
        "                   21.5,61.6,56.9,7.3,62.4,52.9])\n",
        "# Daily confirmed cases (Tests)\n",
        "test_arr = np.array([110,7197,600,1862,1636,1103,35,\n",
        "                   10,295,1658,1226,2490,8,243,\n",
        "                   48,1395,1101,4447,1443,280,\n",
        "                   2830,1602,447,1205,1546,24988])\n",
        "# Dot size Confirmed cases\n",
        "cc_arr = np.array([24236,3456652,125408,390037,256534,229706,7684,\n",
        "                   2035,2836925,350279,255278,537031,1654,50488,\n",
        "                   10162,290445,549321,935066,302686,56031,\n",
        "                   596060,370867,85411,253108,323008,5529824])\n",
        "cc_arr_sm = cc_arr / 1000\n",
        "color_arr = np.random.rand(26)\n",
        "\n",
        "plt.title('Death Rate per 100k vs. Confirmed Cases')\n",
        "plt.xlabel('Death Rate per 100k')\n",
        "plt.ylabel('Confirmed Cases')\n",
        "plt.scatter(dr_arr,test_arr,s=cc_arr_sm,c=color_arr,alpha=0.5)"
      ],
      "metadata": {
        "id": "7P_wSslOLEqK",
        "colab": {
          "base_uri": "https://localhost:8080/",
          "height": 316
        },
        "outputId": "32e2ca31-9281-4802-8862-20b671c18232"
      },
      "execution_count": null,
      "outputs": [
        {
          "output_type": "execute_result",
          "data": {
            "text/plain": [
              "<matplotlib.collections.PathCollection at 0x7f0921a5e5e0>"
            ]
          },
          "metadata": {},
          "execution_count": 33
        },
        {
          "output_type": "display_data",
          "data": {
            "text/plain": [
              "<Figure size 432x288 with 1 Axes>"
            ],
            "image/png": "[encoded data removed]"
          },
          "metadata": {}
        }
      ]
    },
    {
      "cell_type": "markdown",
      "source": [
        "3D Surface"
      ],
      "metadata": {
        "id": "q2U710IALI0n"
      }
    },
    {
      "cell_type": "code",
      "source": [
        "# Needed for creating 3D axes\n",
        "from mpl_toolkits import mplot3d\n",
        "\n",
        "fig_9 = plt.figure(figsize=(8,5),dpi=100)\n",
        "axes_9 = fig_9.add_axes([0.1,0.1,0.9,0.9], projection='3d')\n",
        "\n",
        "# Create a 3D scatterplot\n",
        "# Te darker points are represented that way to seem closer to you\n",
        "z_3 = 15 * np.random.random(100)\n",
        "x_3 = np.sin(z_3) * np.random.randn(100)\n",
        "y_3 = np.cos(z_3) * np.random.randn(100)\n",
        "\n",
        "axes_9.scatter3D(x_3, y_3, z_3, c=z_3, cmap='Blues')\n",
        "\n",
        "# You can create contour plots by defining a function for z based on x & y\n",
        "def get_z(x, y):\n",
        "    return np.sin(np.sqrt(x**2 + y**2))\n",
        "\n",
        "x_4 = np.linspace(-6, 6, 30)\n",
        "y_4 = np.linspace(-6, 6, 30)\n",
        "\n",
        "# Creates a rectangular grid out of 2 given 1D arrays\n",
        "x_4, y_4 = np.meshgrid(x_4, y_4)\n",
        "z_4 = get_z(x_4,y_4)\n",
        "\n",
        "# Change viewing angle to reorient camera 60 degrees and rotate 55\n",
        "axes_9.view_init(45,55)\n",
        "\n",
        "# Provide x, y, z, contours and color map\n",
        "#axes_9.contour3D(x_4,y_4,z_4,80,cmap='Blues')\n",
        "axes_9.set_xlabel('x')\n",
        "axes_9.set_ylabel('y')\n",
        "axes_9.set_zlabel('z')\n",
        "\n",
        "# You can create wireframes\n",
        "#axes_9.plot_wireframe(x_4,y_4,z_4,color='blue')\n",
        "\n",
        "# You can create surface plots which is wireframe with filled faces\n",
        "#axes_9.plot_surface(x_4,y_4,z_4, rstride=1, cstride=1,cmap='Blues',edgecolor='none')"
      ],
      "metadata": {
        "id": "tdJ3pEM_LLr3",
        "colab": {
          "base_uri": "https://localhost:8080/",
          "height": 531
        },
        "outputId": "8c4cfe20-876f-4054-c002-7ea51d566fab"
      },
      "execution_count": null,
      "outputs": [
        {
          "output_type": "execute_result",
          "data": {
            "text/plain": [
              "Text(0.5, 0, 'z')"
            ]
          },
          "metadata": {},
          "execution_count": 34
        },
        {
          "output_type": "display_data",
          "data": {
            "text/plain": [
              "<Figure size 800x500 with 1 Axes>"
            ],
            "image/png": "[encoded data removed]"
          },
          "metadata": {}
        }
      ]
    },
    {
      "cell_type": "markdown",
      "source": [
        "Heatmaps\n",
        "\n"
      ],
      "metadata": {
        "id": "GckCyc0kLaXG"
      }
    },
    {
      "cell_type": "code",
      "source": [
        "# A heatmap is a color coded representation of data from a 2D list\n",
        "symptoms = [\"Coronavirus\",\"Influenza\",\"Pneumonia\",\"Dyspnea\"]\n",
        "dates = [\"Jun28\",\"Jul05\",\"Jul12\",\"Jul19\",\"Jul26\",\"Aug02\",\"Aug09\",\"Aug16\",\"Aug21\"]\n",
        "symp_per = np.array([[5.2, 5.5, 5.7, 5.6, 5.3, 5.1, 5.0, 4.9, 5.3],\n",
        "                    [3.5, 4.0, 4.3, 3.9, 3.5, 3.2, 2.7, 2.2, 2.0],\n",
        "                    [1.8, 2.2, 2.3, 2.2, 2.1, 1.9, 1.7, 1.4, 1.3],\n",
        "                    [1.0, 1.1, 1.1, 1.0, 0.9, 0.8, 0.8, 0.8, 0.7]])\n",
        "\n",
        "fig_10, axes_10 = plt.subplots()\n",
        "# Dfine data to use and color map\n",
        "im = axes_10.imshow(symp_per, cmap=\"Wistia\")\n",
        "\n",
        "# Add ticks at data points and labels\n",
        "axes_10.set_xticks(np.arange(len(dates)))\n",
        "axes_10.set_yticks(np.arange(len(symptoms)))\n",
        "axes_10.set_xticklabels(dates)\n",
        "axes_10.set_yticklabels(symptoms)\n",
        "\n",
        "# Rotate labels on the bottom so they don't overlap\n",
        "plt.setp(axes_10.get_xticklabels(), rotation=45, ha=\"right\",\n",
        "         rotation_mode=\"anchor\")\n",
        "\n",
        "# Loop over data dimensions and create text annotations.\n",
        "for i in range(len(symptoms)):\n",
        "    for j in range(len(dates)):\n",
        "        text = axes_10.text(j, i, symp_per[i, j],\n",
        "                       ha=\"center\", va=\"center\", color=\"k\",fontweight=\"bold\")\n",
        "        "
      ],
      "metadata": {
        "id": "sW5DMHgDLdnZ",
        "colab": {
          "base_uri": "https://localhost:8080/",
          "height": 217
        },
        "outputId": "53630728-fa1f-4745-bb29-808d2d26f9d6"
      },
      "execution_count": null,
      "outputs": [
        {
          "output_type": "display_data",
          "data": {
            "text/plain": [
              "<Figure size 432x288 with 1 Axes>"
            ],
            "image/png": "[encoded data removed]"
          },
          "metadata": {}
        }
      ]
    },
    {
      "cell_type": "markdown",
      "source": [
        "### Seaborn Tutorial\n",
        "“If Matplotlib “tries to make easy things easy and hard things possible”, seaborn tries to make a well-defined set of hard things easy too” – Michael Waskom (Creator of Seaborn)."
      ],
      "metadata": {
        "id": "9EKA5bJRYHzW"
      }
    },
    {
      "cell_type": "markdown",
      "source": [
        "### **'car_crashes' dataframe**\n",
        "#### Accidents in the states of the USA are examined. This is the data set of the cause of the accidents and the cost to the accident insurance companies.\n",
        "\n",
        "- total -> Number of drivers involved in fatal collisions per billion miles (5.900–23.900)\n",
        "- speeding -> Percentage Of Drivers Involved In Fatal Collisions Who Were Speeding (1.792–9.450)\n",
        "- alcohol -> Percentage Of Drivers Involved In Fatal Collisions Who Were Alcohol-Impaired (1.593–10.038)\n",
        "- not_distracted -> Percentage Of Drivers Involved In Fatal Collisions Who Were Not Distracted (1.760–23.661)\n",
        "- no_previous -> Percentage Of Drivers Involved In Fatal Collisions Who Had Not Been Involved In Any Previous Accidents (5.900–21.280)\n",
        "- ins_premium -> Car Insurance Premiums (641.960–1301.520)\n",
        "- ins_losses -> Losses incurred by insurance companies for collisions per insured driver (82.75–194.780)\n",
        "- abbrev -> USA states"
      ],
      "metadata": {
        "id": "i1zRJVjnadbj"
      }
    },
    {
      "cell_type": "markdown",
      "source": [
        "###   **'tips' dataframe**\n",
        "#### It is a data set in which the values associated with the total paid account in a restaurant are kept.\n",
        "\n",
        "- total_bill -> The amount of the account paid in dollars (3.07$ — 50.81$)\n",
        "\n",
        "- tip -> Tip amount ( 1$ — 10$)\n",
        "\n",
        "- sex -> Gender of the person paying the bill (Male , Female)\n",
        "\n",
        "- smoker -> Is smoking on the table? (No , Yes)\n",
        "\n",
        "- day -> Which day people arriving (Thur,Fri,Sat,Sun)\n",
        "\n",
        "- time -> Time of day(Lunch, Dinner)\n",
        "\n",
        "- size -> Number of people sitting at the table (1–6)"
      ],
      "metadata": {
        "id": "FVoP7biIakdt"
      }
    },
    {
      "cell_type": "code",
      "source": [
        "import numpy as np\n",
        "import pandas as pd\n",
        "import matplotlib.pyplot as plt\n",
        "import seaborn as sns"
      ],
      "metadata": {
        "id": "qvxXljVNa2S2"
      },
      "execution_count": null,
      "outputs": []
    },
    {
      "cell_type": "markdown",
      "source": [
        "Import Data"
      ],
      "metadata": {
        "id": "vzsXf4Eca-bH"
      }
    },
    {
      "cell_type": "code",
      "source": [
        "# You can import custom data\n",
        "# cs_df = pd.read_csv('abc.csv')\n",
        "\n",
        "# Seaborn provides built in datasets\n",
        "print(sns.get_dataset_names())\n",
        "\n",
        "# Load a built in dataset based on US State car crash percentages\n",
        "crash_df = sns.load_dataset('car_crashes')\n",
        "crash_df.head()"
      ],
      "metadata": {
        "id": "izU7zhlYa8yL",
        "colab": {
          "base_uri": "https://localhost:8080/",
          "height": 243
        },
        "outputId": "05a86b22-e513-43b9-fcd6-f442514c5e49"
      },
      "execution_count": null,
      "outputs": [
        {
          "output_type": "stream",
          "name": "stdout",
          "text": [
            "['anagrams', 'anscombe', 'attention', 'brain_networks', 'car_crashes', 'diamonds', 'dots', 'dowjones', 'exercise', 'flights', 'fmri', 'geyser', 'glue', 'healthexp', 'iris', 'mpg', 'penguins', 'planets', 'seaice', 'taxis', 'tips', 'titanic']\n"
          ]
        },
        {
          "output_type": "execute_result",
          "data": {
            "text/plain": [
              "   total  speeding  alcohol  not_distracted  no_previous  ins_premium  \\\n",
              "0   18.8     7.332    5.640          18.048       15.040       784.55   \n",
              "1   18.1     7.421    4.525          16.290       17.014      1053.48   \n",
              "2   18.6     6.510    5.208          15.624       17.856       899.47   \n",
              "3   22.4     4.032    5.824          21.056       21.280       827.34   \n",
              "4   12.0     4.200    3.360          10.920       10.680       878.41   \n",
              "\n",
              "   ins_losses abbrev  \n",
              "0      145.08     AL  \n",
              "1      133.93     AK  \n",
              "2      110.35     AZ  \n",
              "3      142.39     AR  \n",
              "4      165.63     CA  "
            ],
            "text/html": [
              "\n",
              "  <div id=\"df-fabb8226-eb87-4781-ad8d-47a008743af2\">\n",
              "    <div class=\"colab-df-container\">\n",
              "      <div>\n",
              "<style scoped>\n",
              "    .dataframe tbody tr th:only-of-type {\n",
              "        vertical-align: middle;\n",
              "    }\n",
              "\n",
              "    .dataframe tbody tr th {\n",
              "        vertical-align: top;\n",
              "    }\n",
              "\n",
              "    .dataframe thead th {\n",
              "        text-align: right;\n",
              "    }\n",
              "</style>\n",
              "<table border=\"1\" class=\"dataframe\">\n",
              "  <thead>\n",
              "    <tr style=\"text-align: right;\">\n",
              "      <th></th>\n",
              "      <th>total</th>\n",
              "      <th>speeding</th>\n",
              "      <th>alcohol</th>\n",
              "      <th>not_distracted</th>\n",
              "      <th>no_previous</th>\n",
              "      <th>ins_premium</th>\n",
              "      <th>ins_losses</th>\n",
              "      <th>abbrev</th>\n",
              "    </tr>\n",
              "  </thead>\n",
              "  <tbody>\n",
              "    <tr>\n",
              "      <th>0</th>\n",
              "      <td>18.8</td>\n",
              "      <td>7.332</td>\n",
              "      <td>5.640</td>\n",
              "      <td>18.048</td>\n",
              "      <td>15.040</td>\n",
              "      <td>784.55</td>\n",
              "      <td>145.08</td>\n",
              "      <td>AL</td>\n",
              "    </tr>\n",
              "    <tr>\n",
              "      <th>1</th>\n",
              "      <td>18.1</td>\n",
              "      <td>7.421</td>\n",
              "      <td>4.525</td>\n",
              "      <td>16.290</td>\n",
              "      <td>17.014</td>\n",
              "      <td>1053.48</td>\n",
              "      <td>133.93</td>\n",
              "      <td>AK</td>\n",
              "    </tr>\n",
              "    <tr>\n",
              "      <th>2</th>\n",
              "      <td>18.6</td>\n",
              "      <td>6.510</td>\n",
              "      <td>5.208</td>\n",
              "      <td>15.624</td>\n",
              "      <td>17.856</td>\n",
              "      <td>899.47</td>\n",
              "      <td>110.35</td>\n",
              "      <td>AZ</td>\n",
              "    </tr>\n",
              "    <tr>\n",
              "      <th>3</th>\n",
              "      <td>22.4</td>\n",
              "      <td>4.032</td>\n",
              "      <td>5.824</td>\n",
              "      <td>21.056</td>\n",
              "      <td>21.280</td>\n",
              "      <td>827.34</td>\n",
              "      <td>142.39</td>\n",
              "      <td>AR</td>\n",
              "    </tr>\n",
              "    <tr>\n",
              "      <th>4</th>\n",
              "      <td>12.0</td>\n",
              "      <td>4.200</td>\n",
              "      <td>3.360</td>\n",
              "      <td>10.920</td>\n",
              "      <td>10.680</td>\n",
              "      <td>878.41</td>\n",
              "      <td>165.63</td>\n",
              "      <td>CA</td>\n",
              "    </tr>\n",
              "  </tbody>\n",
              "</table>\n",
              "</div>\n",
              "      <button class=\"colab-df-convert\" onclick=\"convertToInteractive('df-fabb8226-eb87-4781-ad8d-47a008743af2')\"\n",
              "              title=\"Convert this dataframe to an interactive table.\"\n",
              "              style=\"display:none;\">\n",
              "        \n",
              "  <svg xmlns=\"http://www.w3.org/2000/svg\" height=\"24px\"viewBox=\"0 0 24 24\"\n",
              "       width=\"24px\">\n",
              "    <path d=\"M0 0h24v24H0V0z\" fill=\"none\"/>\n",
              "    <path d=\"M18.56 5.44l.94 2.06.94-2.06 2.06-.94-2.06-.94-.94-2.06-.94 2.06-2.06.94zm-11 1L8.5 8.5l.94-2.06 2.06-.94-2.06-.94L8.5 2.5l-.94 2.06-2.06.94zm10 10l.94 2.06.94-2.06 2.06-.94-2.06-.94-.94-2.06-.94 2.06-2.06.94z\"/><path d=\"M17.41 7.96l-1.37-1.37c-.4-.4-.92-.59-1.43-.59-.52 0-1.04.2-1.43.59L10.3 9.45l-7.72 7.72c-.78.78-.78 2.05 0 2.83L4 21.41c.39.39.9.59 1.41.59.51 0 1.02-.2 1.41-.59l7.78-7.78 2.81-2.81c.8-.78.8-2.07 0-2.86zM5.41 20L4 18.59l7.72-7.72 1.47 1.35L5.41 20z\"/>\n",
              "  </svg>\n",
              "      </button>\n",
              "      \n",
              "  <style>\n",
              "    .colab-df-container {\n",
              "      display:flex;\n",
              "      flex-wrap:wrap;\n",
              "      gap: 12px;\n",
              "    }\n",
              "\n",
              "    .colab-df-convert {\n",
              "      background-color: #E8F0FE;\n",
              "      border: none;\n",
              "      border-radius: 50%;\n",
              "      cursor: pointer;\n",
              "      display: none;\n",
              "      fill: #1967D2;\n",
              "      height: 32px;\n",
              "      padding: 0 0 0 0;\n",
              "      width: 32px;\n",
              "    }\n",
              "\n",
              "    .colab-df-convert:hover {\n",
              "      background-color: #E2EBFA;\n",
              "      box-shadow: 0px 1px 2px rgba(60, 64, 67, 0.3), 0px 1px 3px 1px rgba(60, 64, 67, 0.15);\n",
              "      fill: #174EA6;\n",
              "    }\n",
              "\n",
              "    [theme=dark] .colab-df-convert {\n",
              "      background-color: #3B4455;\n",
              "      fill: #D2E3FC;\n",
              "    }\n",
              "\n",
              "    [theme=dark] .colab-df-convert:hover {\n",
              "      background-color: #434B5C;\n",
              "      box-shadow: 0px 1px 3px 1px rgba(0, 0, 0, 0.15);\n",
              "      filter: drop-shadow(0px 1px 2px rgba(0, 0, 0, 0.3));\n",
              "      fill: #FFFFFF;\n",
              "    }\n",
              "  </style>\n",
              "\n",
              "      <script>\n",
              "        const buttonEl =\n",
              "          document.querySelector('#df-fabb8226-eb87-4781-ad8d-47a008743af2 button.colab-df-convert');\n",
              "        buttonEl.style.display =\n",
              "          google.colab.kernel.accessAllowed ? 'block' : 'none';\n",
              "\n",
              "        async function convertToInteractive(key) {\n",
              "          const element = document.querySelector('#df-fabb8226-eb87-4781-ad8d-47a008743af2');\n",
              "          const dataTable =\n",
              "            await google.colab.kernel.invokeFunction('convertToInteractive',\n",
              "                                                     [key], {});\n",
              "          if (!dataTable) return;\n",
              "\n",
              "          const docLinkHtml = 'Like what you see? Visit the ' +\n",
              "            '<a target=\"_blank\" href=https://colab.research.google.com/notebooks/data_table.ipynb>data table notebook</a>'\n",
              "            + ' to learn more about interactive tables.';\n",
              "          element.innerHTML = '';\n",
              "          dataTable['output_type'] = 'display_data';\n",
              "          await google.colab.output.renderOutput(dataTable, element);\n",
              "          const docLink = document.createElement('div');\n",
              "          docLink.innerHTML = docLinkHtml;\n",
              "          element.appendChild(docLink);\n",
              "        }\n",
              "      </script>\n",
              "    </div>\n",
              "  </div>\n",
              "  "
            ]
          },
          "metadata": {},
          "execution_count": 37
        }
      ]
    },
    {
      "cell_type": "code",
      "source": [
        "# Load data on tips\n",
        "tips_df = sns.load_dataset('tips')\n",
        "tips_df.head()"
      ],
      "metadata": {
        "id": "FOK7-h4RbNmi",
        "colab": {
          "base_uri": "https://localhost:8080/",
          "height": 206
        },
        "outputId": "43537bb3-60c8-4693-e44c-21f116dc993a"
      },
      "execution_count": null,
      "outputs": [
        {
          "output_type": "execute_result",
          "data": {
            "text/plain": [
              "   total_bill   tip     sex smoker  day    time  size\n",
              "0       16.99  1.01  Female     No  Sun  Dinner     2\n",
              "1       10.34  1.66    Male     No  Sun  Dinner     3\n",
              "2       21.01  3.50    Male     No  Sun  Dinner     3\n",
              "3       23.68  3.31    Male     No  Sun  Dinner     2\n",
              "4       24.59  3.61  Female     No  Sun  Dinner     4"
            ],
            "text/html": [
              "\n",
              "  <div id=\"df-41f71fee-be8c-46fa-8f71-9af008479a1f\">\n",
              "    <div class=\"colab-df-container\">\n",
              "      <div>\n",
              "<style scoped>\n",
              "    .dataframe tbody tr th:only-of-type {\n",
              "        vertical-align: middle;\n",
              "    }\n",
              "\n",
              "    .dataframe tbody tr th {\n",
              "        vertical-align: top;\n",
              "    }\n",
              "\n",
              "    .dataframe thead th {\n",
              "        text-align: right;\n",
              "    }\n",
              "</style>\n",
              "<table border=\"1\" class=\"dataframe\">\n",
              "  <thead>\n",
              "    <tr style=\"text-align: right;\">\n",
              "      <th></th>\n",
              "      <th>total_bill</th>\n",
              "      <th>tip</th>\n",
              "      <th>sex</th>\n",
              "      <th>smoker</th>\n",
              "      <th>day</th>\n",
              "      <th>time</th>\n",
              "      <th>size</th>\n",
              "    </tr>\n",
              "  </thead>\n",
              "  <tbody>\n",
              "    <tr>\n",
              "      <th>0</th>\n",
              "      <td>16.99</td>\n",
              "      <td>1.01</td>\n",
              "      <td>Female</td>\n",
              "      <td>No</td>\n",
              "      <td>Sun</td>\n",
              "      <td>Dinner</td>\n",
              "      <td>2</td>\n",
              "    </tr>\n",
              "    <tr>\n",
              "      <th>1</th>\n",
              "      <td>10.34</td>\n",
              "      <td>1.66</td>\n",
              "      <td>Male</td>\n",
              "      <td>No</td>\n",
              "      <td>Sun</td>\n",
              "      <td>Dinner</td>\n",
              "      <td>3</td>\n",
              "    </tr>\n",
              "    <tr>\n",
              "      <th>2</th>\n",
              "      <td>21.01</td>\n",
              "      <td>3.50</td>\n",
              "      <td>Male</td>\n",
              "      <td>No</td>\n",
              "      <td>Sun</td>\n",
              "      <td>Dinner</td>\n",
              "      <td>3</td>\n",
              "    </tr>\n",
              "    <tr>\n",
              "      <th>3</th>\n",
              "      <td>23.68</td>\n",
              "      <td>3.31</td>\n",
              "      <td>Male</td>\n",
              "      <td>No</td>\n",
              "      <td>Sun</td>\n",
              "      <td>Dinner</td>\n",
              "      <td>2</td>\n",
              "    </tr>\n",
              "    <tr>\n",
              "      <th>4</th>\n",
              "      <td>24.59</td>\n",
              "      <td>3.61</td>\n",
              "      <td>Female</td>\n",
              "      <td>No</td>\n",
              "      <td>Sun</td>\n",
              "      <td>Dinner</td>\n",
              "      <td>4</td>\n",
              "    </tr>\n",
              "  </tbody>\n",
              "</table>\n",
              "</div>\n",
              "      <button class=\"colab-df-convert\" onclick=\"convertToInteractive('df-41f71fee-be8c-46fa-8f71-9af008479a1f')\"\n",
              "              title=\"Convert this dataframe to an interactive table.\"\n",
              "              style=\"display:none;\">\n",
              "        \n",
              "  <svg xmlns=\"http://www.w3.org/2000/svg\" height=\"24px\"viewBox=\"0 0 24 24\"\n",
              "       width=\"24px\">\n",
              "    <path d=\"M0 0h24v24H0V0z\" fill=\"none\"/>\n",
              "    <path d=\"M18.56 5.44l.94 2.06.94-2.06 2.06-.94-2.06-.94-.94-2.06-.94 2.06-2.06.94zm-11 1L8.5 8.5l.94-2.06 2.06-.94-2.06-.94L8.5 2.5l-.94 2.06-2.06.94zm10 10l.94 2.06.94-2.06 2.06-.94-2.06-.94-.94-2.06-.94 2.06-2.06.94z\"/><path d=\"M17.41 7.96l-1.37-1.37c-.4-.4-.92-.59-1.43-.59-.52 0-1.04.2-1.43.59L10.3 9.45l-7.72 7.72c-.78.78-.78 2.05 0 2.83L4 21.41c.39.39.9.59 1.41.59.51 0 1.02-.2 1.41-.59l7.78-7.78 2.81-2.81c.8-.78.8-2.07 0-2.86zM5.41 20L4 18.59l7.72-7.72 1.47 1.35L5.41 20z\"/>\n",
              "  </svg>\n",
              "      </button>\n",
              "      \n",
              "  <style>\n",
              "    .colab-df-container {\n",
              "      display:flex;\n",
              "      flex-wrap:wrap;\n",
              "      gap: 12px;\n",
              "    }\n",
              "\n",
              "    .colab-df-convert {\n",
              "      background-color: #E8F0FE;\n",
              "      border: none;\n",
              "      border-radius: 50%;\n",
              "      cursor: pointer;\n",
              "      display: none;\n",
              "      fill: #1967D2;\n",
              "      height: 32px;\n",
              "      padding: 0 0 0 0;\n",
              "      width: 32px;\n",
              "    }\n",
              "\n",
              "    .colab-df-convert:hover {\n",
              "      background-color: #E2EBFA;\n",
              "      box-shadow: 0px 1px 2px rgba(60, 64, 67, 0.3), 0px 1px 3px 1px rgba(60, 64, 67, 0.15);\n",
              "      fill: #174EA6;\n",
              "    }\n",
              "\n",
              "    [theme=dark] .colab-df-convert {\n",
              "      background-color: #3B4455;\n",
              "      fill: #D2E3FC;\n",
              "    }\n",
              "\n",
              "    [theme=dark] .colab-df-convert:hover {\n",
              "      background-color: #434B5C;\n",
              "      box-shadow: 0px 1px 3px 1px rgba(0, 0, 0, 0.15);\n",
              "      filter: drop-shadow(0px 1px 2px rgba(0, 0, 0, 0.3));\n",
              "      fill: #FFFFFF;\n",
              "    }\n",
              "  </style>\n",
              "\n",
              "      <script>\n",
              "        const buttonEl =\n",
              "          document.querySelector('#df-41f71fee-be8c-46fa-8f71-9af008479a1f button.colab-df-convert');\n",
              "        buttonEl.style.display =\n",
              "          google.colab.kernel.accessAllowed ? 'block' : 'none';\n",
              "\n",
              "        async function convertToInteractive(key) {\n",
              "          const element = document.querySelector('#df-41f71fee-be8c-46fa-8f71-9af008479a1f');\n",
              "          const dataTable =\n",
              "            await google.colab.kernel.invokeFunction('convertToInteractive',\n",
              "                                                     [key], {});\n",
              "          if (!dataTable) return;\n",
              "\n",
              "          const docLinkHtml = 'Like what you see? Visit the ' +\n",
              "            '<a target=\"_blank\" href=https://colab.research.google.com/notebooks/data_table.ipynb>data table notebook</a>'\n",
              "            + ' to learn more about interactive tables.';\n",
              "          element.innerHTML = '';\n",
              "          dataTable['output_type'] = 'display_data';\n",
              "          await google.colab.output.renderOutput(dataTable, element);\n",
              "          const docLink = document.createElement('div');\n",
              "          docLink.innerHTML = docLinkHtml;\n",
              "          element.appendChild(docLink);\n",
              "        }\n",
              "      </script>\n",
              "    </div>\n",
              "  </div>\n",
              "  "
            ]
          },
          "metadata": {},
          "execution_count": 38
        }
      ]
    },
    {
      "cell_type": "markdown",
      "source": [
        "## The titanic dataset will be used for some exerises in b/w so , Stay tuned !!\n",
        "You can always write titanic.head() to visualise the top 5 rows of the dataframe"
      ],
      "metadata": {
        "id": "-d4bX127u9rI"
      }
    },
    {
      "cell_type": "code",
      "source": [
        "titanic = sns.load_dataset('titanic')        \n",
        "titanic.head()"
      ],
      "metadata": {
        "id": "82VFrdspu08P"
      },
      "execution_count": null,
      "outputs": []
    },
    {
      "cell_type": "markdown",
      "source": [
        "## Distribution Plots"
      ],
      "metadata": {
        "id": "6JQw38OxbSRQ"
      }
    },
    {
      "cell_type": "code",
      "source": [
        "# kde=False removes the KDE\n",
        "# Bins define how many buckets to divide the data up into between intervals\n",
        "\n",
        "# print(crash_df['not_distracted'])\n",
        "# sns.displot(crash_df['not_distracted'], kde=False, bins=20)\n",
        "# Visualise the distribution of alcohol impaired people who were involved in the car crash\n",
        "sns.displot(crash_df['alcohol'], kde=False, bins=20)          "
      ],
      "metadata": {
        "id": "OejQWenEbd_K",
        "colab": {
          "base_uri": "https://localhost:8080/",
          "height": 386
        },
        "outputId": "75d32fdb-4fc3-4f97-dc9f-c72fe1a4c0b2"
      },
      "execution_count": null,
      "outputs": [
        {
          "output_type": "execute_result",
          "data": {
            "text/plain": [
              "<seaborn.axisgrid.FacetGrid at 0x7f0921861310>"
            ]
          },
          "metadata": {},
          "execution_count": 39
        },
        {
          "output_type": "display_data",
          "data": {
            "text/plain": [
              "<Figure size 360x360 with 1 Axes>"
            ],
            "image/png": "[encoded data removed]"
          },
          "metadata": {}
        }
      ]
    },
    {
      "cell_type": "code",
      "source": [
        "sns.displot(tips_df['total_bill'], stat = 'density', kde = True)  # KDE - Dark blue "
      ],
      "metadata": {
        "id": "n78A3nGAcdkb",
        "colab": {
          "base_uri": "https://localhost:8080/",
          "height": 386
        },
        "outputId": "91fffd80-d9b2-403e-b201-2c73384df888"
      },
      "execution_count": null,
      "outputs": [
        {
          "output_type": "execute_result",
          "data": {
            "text/plain": [
              "<seaborn.axisgrid.FacetGrid at 0x7f0921848ee0>"
            ]
          },
          "metadata": {},
          "execution_count": 40
        },
        {
          "output_type": "display_data",
          "data": {
            "text/plain": [
              "<Figure size 360x360 with 1 Axes>"
            ],
            "image/png": "[encoded data removed]"
          },
          "metadata": {}
        }
      ]
    },
    {
      "cell_type": "markdown",
      "source": [
        "## Exercise\n",
        "#### Say, we want to visualise the distribution of the fares in the titanic dataset using displot.\n",
        "\n",
        " Fill in the ( )"
      ],
      "metadata": {
        "id": "efTMQ9g6vi2I"
      }
    },
    {
      "cell_type": "code",
      "source": [
        "sns.displot()                  # you can add color = 'red' in the arguments too"
      ],
      "metadata": {
        "id": "a0nrFNY1v_ds"
      },
      "execution_count": null,
      "outputs": []
    },
    {
      "cell_type": "markdown",
      "source": [
        "## KDE Plot\n",
        "- A kernel density estimate (KDE) plot is a method for visualizing the distribution of observations in a dataset, analogous to a histogram\n",
        "-  KDE represents the data using a continuous probability density curve\n",
        "\n"
      ],
      "metadata": {
        "id": "RuRNZuAwdUws"
      }
    },
    {
      "cell_type": "code",
      "source": [
        "# Get just the KDE plot\n",
        "# Among all the people involved in car crashes, most of them were drunk\n",
        "sns.kdeplot(crash_df['alcohol'])"
      ],
      "metadata": {
        "id": "TiBVt7Xydvmw"
      },
      "execution_count": null,
      "outputs": []
    },
    {
      "cell_type": "markdown",
      "source": [
        "## Joint Plot\n",
        "- a way of understanding the relationship between two variables and the distribution of individuals of each variable"
      ],
      "metadata": {
        "id": "3dkUG1HYdDqA"
      }
    },
    {
      "cell_type": "code",
      "source": [
        "#  With kind you can create a regression line with kind='reg'\n",
        "sns.jointplot(x='speeding', y='alcohol', data=crash_df, kind='reg')  # Observe that they are almost linearly related"
      ],
      "metadata": {
        "id": "N9vm59qhdGi_"
      },
      "execution_count": null,
      "outputs": []
    },
    {
      "cell_type": "code",
      "source": [
        "sns.jointplot(x='speeding', y='alcohol', data=crash_df, kind='scatter')"
      ],
      "metadata": {
        "id": "SnJByunddXO4"
      },
      "execution_count": null,
      "outputs": []
    },
    {
      "cell_type": "markdown",
      "source": [
        "### Pair Plots\n",
        "- Pair Plot plots relationships across the entire data frames numerical values\n",
        "- perform the jointplot for every possible pair of **numerical columns** in the dataframe."
      ],
      "metadata": {
        "id": "DSM0pWEcd0y4"
      }
    },
    {
      "cell_type": "code",
      "source": [
        "sns.pairplot(tips_df)"
      ],
      "metadata": {
        "id": "Hng7S-wFd_nI"
      },
      "execution_count": null,
      "outputs": []
    },
    {
      "cell_type": "code",
      "source": [
        "# With hue you can pass in a categorical column and the charts will be colorized\n",
        "# You can use color maps from Matplotlib to define what colors to use\n",
        "\n",
        "sns.pairplot(tips_df, hue='sex', diag_kind='kde')  # diag_kind='kde'     # size is a discrete variable"
      ],
      "metadata": {
        "id": "O1KBaN8Ed_dr"
      },
      "execution_count": null,
      "outputs": []
    },
    {
      "cell_type": "markdown",
      "source": [
        "## Styling"
      ],
      "metadata": {
        "id": "mGtCa3CoeimB"
      }
    },
    {
      "cell_type": "code",
      "source": [
        "# You can set styling for your axes and grids\n",
        "# white, darkgrid, whitegrid, dark, ticks\n",
        "sns.set_style('white')\n",
        "\n",
        "# You can use figure sizing from Matplotlib\n",
        "plt.figure(figsize=(8,6))\n",
        "\n",
        "# Set the parameters that control the scaling of plot elements.\n",
        "# Change size of lables, lines and other elements to best fit\n",
        "# how you will present your data (paper, talk, poster)\n",
        "\n",
        "# sns.set_context('paper', font_scale=1.4)\n",
        "# sns.set_context('notebook', font_scale=1.4)\n",
        "# sns.set_context('talk', font_scale=1.4)\n",
        "# sns.set_context('poster', font_scale=1.4)\n",
        "\n",
        "sns.jointplot(x='speeding', y='alcohol', data=crash_df, kind='reg')\n",
        "plt.show()"
      ],
      "metadata": {
        "id": "O5Rc89CxetCz"
      },
      "execution_count": null,
      "outputs": []
    },
    {
      "cell_type": "markdown",
      "source": [
        "## Categorical Plots\n",
        "### Count Plot and Bar Plot\n",
        "These very similar plots allow you to get aggregate data off a categorical feature in your data.\n",
        "- **barplot** is a general plot that allows you to aggregate the categorical data based off some function, by default the mean:\n",
        "- **count plot** is like a bar plot, but the estimator is counting \n",
        " the number of occurences, which is why we only pass the x value:"
      ],
      "metadata": {
        "id": "kMs2X2bsfATn"
      }
    },
    {
      "cell_type": "code",
      "source": [
        "sns.countplot(x='sex',data=tips_df)"
      ],
      "metadata": {
        "id": "tvxo8D-HfeHF"
      },
      "execution_count": null,
      "outputs": []
    },
    {
      "cell_type": "code",
      "source": [
        "#  x - categorical,  y = numerical \n",
        "sns.barplot(x='sex',y='total_bill',data=tips_df)  # mean is the default estimator\n",
        "plt.title(\"Based on Mean\")\n",
        "plt.show()\n",
        "sns.barplot(x='sex',y='total_bill',data=tips_df, estimator=np.median)\n",
        "plt.title(\"Based on Median\")\n",
        "plt.show()"
      ],
      "metadata": {
        "id": "2HxfI2Cxfj3R"
      },
      "execution_count": null,
      "outputs": []
    },
    {
      "cell_type": "markdown",
      "source": [
        "#### Q.) Let's say we want to know \"**how many**\" males and females survived. \n",
        "\n",
        "Which plot should we use ? Use it to get the below plot.  \n",
        "\n",
        "##### HINT : There is a column in the dataframe names \"alive\" which is either 'yes' or 'no'"
      ],
      "metadata": {
        "id": "DCiovoCfxrnD"
      }
    },
    {
      "cell_type": "code",
      "source": [
        "sns.(x= '', hue ='', data=titanic)            \n"
      ],
      "metadata": {
        "id": "ArLMIPYOyOYT"
      },
      "execution_count": null,
      "outputs": []
    },
    {
      "cell_type": "markdown",
      "source": [
        "## Matrix Plots"
      ],
      "metadata": {
        "id": "G3k5i189fw7U"
      }
    },
    {
      "cell_type": "markdown",
      "source": [
        "### Heatmaps\n",
        "- Plot rectangular data as a color-encoded matrix."
      ],
      "metadata": {
        "id": "EsvKdiKif1qY"
      }
    },
    {
      "cell_type": "code",
      "source": [
        "plt.figure(figsize=(8,6))\n",
        "sns.set_context('paper', font_scale=1.4)\n",
        "\n",
        "# To create a heatmap with data you must have data set up as a matrix where variables are on the columns and rows\n",
        "crash_mx = crash_df.corr()   \n",
        "print(crash_mx) \n",
        "\n",
        "# Correlation tells you how influential a variable is on the result\n",
        "# Observe that n previous accident, alcohol is heavily correlated with accidents, while the insurance premium is not\n",
        "\n",
        "# Create the heatmap, add annotations and a color map\n",
        "sns.heatmap(crash_mx, annot=True, cmap='Blues')   # annot = True ensures the value of correlation is shown \n",
        "plt.show()\n",
        "plt.figure(figsize=(8,6))"
      ],
      "metadata": {
        "id": "B51CVG39f5U_"
      },
      "execution_count": null,
      "outputs": []
    },
    {
      "cell_type": "code",
      "source": [
        "plt.figure(figsize=(8,6))\n",
        "sns.set_context('paper', font_scale=1.4)\n",
        "\n",
        "# We can create a matrix with an index of month, columns representing years and the number of passengers for each\n",
        "# We see that flights have increased over time and that most people travel in July and August\n",
        "\n",
        "flights = sns.load_dataset(\"flights\")\n",
        "print(flights.head())\n",
        "print(\"\\n\")\n",
        "flights = flights.pivot_table(index='month', columns='year', values='passengers')\n",
        "print(flights)                                                 \n"
      ],
      "metadata": {
        "id": "4xKx_uOlgvWo"
      },
      "execution_count": null,
      "outputs": []
    },
    {
      "cell_type": "markdown",
      "source": [
        "## One final Exercise     \n",
        "Now that you have the data set up as a matrix can you plot a heatmap,using the previous example ?\n",
        "\n",
        "Fill in the ( )."
      ],
      "metadata": {
        "id": "NahiW4HZuGZM"
      }
    },
    {
      "cell_type": "code",
      "source": [
        "# sns.heatmap()\n",
        "\n",
        "# You can separate data with lines by adding (linecolor='white', linewidth=1) in the arguments\n",
        "sns.heatmap()      "
      ],
      "metadata": {
        "id": "QyiV_rgEt5nH"
      },
      "execution_count": null,
      "outputs": []
    },
    {
      "cell_type": "markdown",
      "source": [
        "## Regression Plots\n",
        "In the simplest invocation, both functions draw a scatterplot of two variables, x and y, then it fit the regression model y ~ x and plot the resulting regression line and a 95% confidence interval for that regression:"
      ],
      "metadata": {
        "id": "8V4ORG7eh63m"
      }
    },
    {
      "cell_type": "code",
      "source": [
        "tips_df.head()"
      ],
      "metadata": {
        "id": "-XSU0dQOiEt-"
      },
      "execution_count": null,
      "outputs": []
    },
    {
      "cell_type": "code",
      "source": [
        "plt.figure(figsize=(5,5))\n",
        "sns.set_context('paper', font_scale=1.4)\n",
        "\n",
        "# We can plot a regression plot studying whether total bill effects the tip\n",
        "# hue is used to show separation based off of categorical data\n",
        "# We see that males tend to tip slightly more\n",
        "# You can effect the scatter plot by passing in a dictionary for styling\n",
        "\n",
        "sns.lmplot(x='total_bill', y='tip', hue='sex', data=tips_df, markers=['o', '^'],    # different markers for men and women\n",
        "           scatter_kws={'s': 100})"
      ],
      "metadata": {
        "id": "55Vg988NiLJH"
      },
      "execution_count": null,
      "outputs": []
    },
    {
      "cell_type": "markdown",
      "source": [
        "#### Scipy"
      ],
      "metadata": {
        "id": "nokChjuXDYUC"
      }
    },
    {
      "cell_type": "code",
      "source": [
        "import numpy as np\n",
        "import scipy.stats as ss\n",
        "from scipy.stats import norm\n",
        "import matplotlib.pyplot as plt"
      ],
      "metadata": {
        "id": "781Czk1RD5mK"
      },
      "execution_count": null,
      "outputs": []
    },
    {
      "cell_type": "code",
      "source": [
        "#gaussian distribution plot \n",
        "\n",
        "#lets define the mean and variance of the distribution\n",
        "mu = 3\n",
        "sigma = 1\n",
        "\n",
        "#lets define the distribution\n",
        "dist = norm(mu,sigma)\n",
        "\n",
        "#lets now display the probability density function for the distribution\n",
        "fig, ax = plt.subplots(1, 1)\n",
        "x = np.linspace(norm.ppf(0.01),norm.ppf(0.99), 100)\n",
        "ax.plot(x, norm.cdf(x),'r-', lw=3, alpha=0.6, label='norm cdf')\n",
        "ax.plot(x, norm.pdf(x),'b-', lw=3, alpha=0.6, label='norm pdf')\n",
        "plt.legend(['cdf','pdf'])\n",
        "plt.style.use('ggplot')"
      ],
      "metadata": {
        "id": "PHCO2X7-DXXe",
        "colab": {
          "base_uri": "https://localhost:8080/",
          "height": 265
        },
        "outputId": "902aceea-2556-4123-cf16-0a34b242f2b3"
      },
      "execution_count": null,
      "outputs": [
        {
          "output_type": "display_data",
          "data": {
            "text/plain": [
              "<Figure size 432x288 with 1 Axes>"
            ],
            "image/png": "[encoded data removed]"
          },
          "metadata": {}
        }
      ]
    },
    {
      "cell_type": "code",
      "source": [
        "#stats from gaussian distribution\n",
        "# mean, var, skew, kurt = dist.stats(moments='mvsk')\n",
        "\n",
        "#lets sample a few data points from the distribution\n",
        "num_points = 1000\n",
        "vals = dist.rvs(size=num_points)\n",
        "\n",
        "sample_mean = round(np.mean(vals),3)\n",
        "sample_variance = np.sum(np.square(vals - sample_mean))/(np.size(vals)-1)\n",
        "skewness = round(ss.skew(vals),3)\n",
        "kurtosis = round(ss.kurtosis(vals),3)\n",
        "\n",
        "print('The mean of the samples is = ',sample_mean)\n",
        "print('The variance of the samples is = ',sample_variance)\n",
        "print('The skewness of the samples is = ',skewness)\n",
        "print('The kurtosis of the samples is = ',kurtosis)"
      ],
      "metadata": {
        "id": "XLleCfEJDkY3",
        "colab": {
          "base_uri": "https://localhost:8080/"
        },
        "outputId": "4a470ddc-ccae-4fb6-b4ca-66f88d7c122c"
      },
      "execution_count": null,
      "outputs": [
        {
          "output_type": "stream",
          "name": "stdout",
          "text": [
            "The mean of the samples is =  3.014\n",
            "The variance of the samples is =  0.9589068383396178\n",
            "The skewness of the samples is =  -0.042\n",
            "The kurtosis of the samples is =  -0.11\n"
          ]
        }
      ]
    },
    {
      "cell_type": "code",
      "source": [
        "#find roots of single variable function\n",
        "from scipy.optimize import root_scalar\n",
        "#lets define an objective function\n",
        "def f(x):\n",
        "  return x ** 2 - 5*x + 6\n",
        "\n",
        "def fprime(x):\n",
        "  return 2*x - 5\n",
        "  \n",
        "#we need to provide an initial guess to the algorithm\n",
        "initial_point = 2.2\n",
        "\n",
        "result = root_scalar(f,x0=initial_point,fprime=fprime,method='newton')\n",
        "print(result)"
      ],
      "metadata": {
        "id": "bdVFAVztDhRO",
        "colab": {
          "base_uri": "https://localhost:8080/"
        },
        "outputId": "a2c4bf74-258b-4983-b53a-4f1b87fc8668"
      },
      "execution_count": null,
      "outputs": [
        {
          "output_type": "stream",
          "name": "stdout",
          "text": [
            "      converged: True\n",
            "           flag: 'converged'\n",
            " function_calls: 10\n",
            "     iterations: 5\n",
            "           root: 2.000000000000001\n"
          ]
        }
      ]
    },
    {
      "cell_type": "code",
      "source": [
        "#exercise - find a root of the following function x^2 - sin(x)\n",
        "from scipy.optimize import root_scalar\n",
        "from math import sin\n",
        "\n",
        "def f(x):\n",
        "  return x ** 2  - np.sin(x)\n",
        "\n",
        "def fprim(x):\n",
        "  return 3*x**2 - cos(x)\n",
        "\n",
        "init_point = 0.1\n",
        "\n",
        "result = root_scalar(f,x0=initial_point,fprime=fprime,method='newton')\n",
        "print(result)"
      ],
      "metadata": {
        "id": "-PX-pWaiY6ya",
        "colab": {
          "base_uri": "https://localhost:8080/"
        },
        "outputId": "b54bdcf6-eda2-49a1-feed-dba2c3953e0b"
      },
      "execution_count": null,
      "outputs": [
        {
          "output_type": "stream",
          "name": "stdout",
          "text": [
            "      converged: False\n",
            "           flag: 'convergence error'\n",
            " function_calls: 100\n",
            "     iterations: 50\n",
            "           root: -7.360102093803626e-05\n"
          ]
        }
      ]
    },
    {
      "cell_type": "code",
      "source": [
        "#optimize single variable function\n",
        "from math import cos,sin\n",
        "from scipy.optimize import minimize\n",
        "#lets define an objective function\n",
        "def objective(x):\n",
        "  return x ** 2 + 2*cos(x) + 4*x\n",
        "\n",
        "#we need to provide an initial guess to the algorithm\n",
        "initial_point = 2 \n",
        "result = minimize(objective,initial_point,method='Nelder-Mead', tol=1e-6)\n",
        "print(result)"
      ],
      "metadata": {
        "id": "TgCCDzjrDqfx",
        "colab": {
          "base_uri": "https://localhost:8080/"
        },
        "outputId": "53744145-fcda-4e1c-f267-3cff9d2b6426"
      },
      "execution_count": null,
      "outputs": [
        {
          "output_type": "stream",
          "name": "stdout",
          "text": [
            "       message: Optimization terminated successfully.\n",
            "       success: True\n",
            "        status: 0\n",
            "           fun: -5.3576393178310795\n",
            "             x: [-2.554e+00]\n",
            "           nit: 27\n",
            "          nfev: 54\n",
            " final_simplex: (array([[-2.554e+00],\n",
            "                       [-2.554e+00]]), array([-5.358e+00, -5.358e+00]))\n"
          ]
        }
      ]
    },
    {
      "cell_type": "code",
      "source": [
        "#exercise - minimize the following function x^2 - 2sin(x)\n",
        "from math import cos,sin\n",
        "from scipy.optimize import minimize"
      ],
      "metadata": {
        "id": "pKTpuClrY0nG"
      },
      "execution_count": null,
      "outputs": []
    },
    {
      "cell_type": "code",
      "source": [
        "#optimize multivariable function\n",
        "from scipy.optimize import least_squares\n",
        "from math import cos,sin\n",
        "import numpy as np\n",
        "#here X = [x,y] is a list\n",
        "#The function is f(x,y) = x^2 + y^2 + 6\n",
        "def f(X):\n",
        "  return (X[0]) ** 2 + (X[1]) ** 2 + 6\n",
        " \n",
        "init_points = np.array([1,1])\n",
        "result = least_squares(f,init_points)\n",
        "print(result)"
      ],
      "metadata": {
        "id": "yPptyAxYDws9",
        "colab": {
          "base_uri": "https://localhost:8080/"
        },
        "outputId": "d7f62ea4-7969-45a7-ef5d-8e8649b65eb1"
      },
      "execution_count": null,
      "outputs": [
        {
          "output_type": "stream",
          "name": "stdout",
          "text": [
            "     message: `gtol` termination condition is satisfied.\n",
            "     success: True\n",
            "      status: 1\n",
            "         fun: [ 6.000e+00]\n",
            "           x: [ 1.110e-16 -2.220e-16]\n",
            "        cost: 18.0\n",
            "         jac: [[ 0.000e+00 -0.000e+00]]\n",
            "        grad: [ 0.000e+00  0.000e+00]\n",
            "  optimality: 0.0\n",
            " active_mask: [ 0.000e+00  0.000e+00]\n",
            "        nfev: 2\n",
            "        njev: 2\n"
          ]
        }
      ]
    },
    {
      "cell_type": "markdown",
      "source": [
        "# **Scikit-learn**\n",
        "\n",
        "* Train-Test Split\n",
        "* Confusion Matrix\n",
        "* Metric Score\n",
        "* Logistic Regression\n",
        "* K-Nearest Neighbours\n",
        "* Decision Tree\n",
        "* Random Forest(Bagging Method)\n",
        "* AdaBoost(Boosting Method)\n",
        "\n",
        "\n",
        "\n"
      ],
      "metadata": {
        "id": "UQ7kYvlm4Bax"
      }
    },
    {
      "cell_type": "markdown",
      "source": [
        "# Importing scikit-learn"
      ],
      "metadata": {
        "id": "eCM-5jsHH13c"
      }
    },
    {
      "cell_type": "code",
      "source": [
        "import numpy as np\n",
        "import seaborn as sns\n",
        "import matplotlib.pyplot as plt"
      ],
      "metadata": {
        "id": "GSJcHKP6lg9E"
      },
      "execution_count": null,
      "outputs": []
    },
    {
      "cell_type": "code",
      "source": [
        "import sklearn\n",
        "from sklearn.datasets import load_iris"
      ],
      "metadata": {
        "id": "PCLfvpCryerK"
      },
      "execution_count": null,
      "outputs": []
    },
    {
      "cell_type": "code",
      "source": [
        "X, y = load_iris(return_X_y=True)"
      ],
      "metadata": {
        "id": "3QipJATR748Q"
      },
      "execution_count": null,
      "outputs": []
    },
    {
      "cell_type": "code",
      "source": [
        "X_del=np.delete(X,2,1)\n",
        "X_del=np.delete(X_del,2,1)\n"
      ],
      "metadata": {
        "id": "KTo-heZLkqj1"
      },
      "execution_count": null,
      "outputs": []
    },
    {
      "cell_type": "code",
      "source": [
        "from sklearn.model_selection import train_test_split\n",
        "X_train, X_test, y_train, y_test = train_test_split(X, y, test_size=0.2)"
      ],
      "metadata": {
        "id": "xSVbe6Yj9RV2"
      },
      "execution_count": null,
      "outputs": []
    },
    {
      "cell_type": "code",
      "source": [
        "from sklearn.linear_model import LogisticRegression\n",
        "clf = LogisticRegression(max_iter=1000).fit(X_train,y_train)"
      ],
      "metadata": {
        "id": "zuJ6wSjZ7VoA"
      },
      "execution_count": null,
      "outputs": []
    },
    {
      "cell_type": "code",
      "source": [
        "clf.score(X_train, y_train)"
      ],
      "metadata": {
        "colab": {
          "base_uri": "https://localhost:8080/"
        },
        "id": "8Ji6dv7r8P90",
        "outputId": "ae6bf10e-7994-4a7e-b3f0-3d4160323893"
      },
      "execution_count": null,
      "outputs": [
        {
          "output_type": "execute_result",
          "data": {
            "text/plain": [
              "0.975"
            ]
          },
          "metadata": {},
          "execution_count": 34
        }
      ]
    },
    {
      "cell_type": "code",
      "source": [
        "sns.scatterplot(x=X_del[:,0], y=X_del[:,1], hue=y[:])"
      ],
      "metadata": {
        "colab": {
          "base_uri": "https://localhost:8080/",
          "height": 285
        },
        "id": "kKXX4z6tluKT",
        "outputId": "468a373b-afa8-4ec8-962d-b4facccbc5d5"
      },
      "execution_count": null,
      "outputs": [
        {
          "output_type": "execute_result",
          "data": {
            "text/plain": [
              "<Axes: >"
            ]
          },
          "metadata": {},
          "execution_count": 37
        },
        {
          "output_type": "display_data",
          "data": {
            "text/plain": [
              "<Figure size 432x288 with 1 Axes>"
            ],
            "image/png": "[encoded data removed]"
          },
          "metadata": {
            "needs_background": "light"
          }
        }
      ]
    },
    {
      "cell_type": "code",
      "source": [
        "y_test"
      ],
      "metadata": {
        "colab": {
          "base_uri": "https://localhost:8080/"
        },
        "id": "dKVH4Gar98MR",
        "outputId": "8b43e193-22fd-403e-b2af-2d3ffc71339c"
      },
      "execution_count": null,
      "outputs": [
        {
          "output_type": "execute_result",
          "data": {
            "text/plain": [
              "array([1, 0, 1, 0, 2, 0, 2, 0, 0, 2, 2, 2, 0, 0, 2, 2, 2, 0, 2, 2, 2, 2,\n",
              "       0, 1, 0, 2, 0, 1, 1, 2])"
            ]
          },
          "metadata": {},
          "execution_count": 142
        }
      ]
    },
    {
      "cell_type": "code",
      "source": [
        "from sklearn import metrics\n",
        "print(\"Accuracy of Logistic Regression model is:\",\n",
        "metrics.accuracy_score(y_test, y_pred)*100)"
      ],
      "metadata": {
        "colab": {
          "base_uri": "https://localhost:8080/"
        },
        "id": "iuUqMaVM-Btt",
        "outputId": "7c2493e8-b673-49f7-b6bc-6156f5d0521a"
      },
      "execution_count": null,
      "outputs": [
        {
          "output_type": "stream",
          "name": "stdout",
          "text": [
            "Accuracy of Logistic Regression model is: 93.33333333333333\n"
          ]
        }
      ]
    },
    {
      "cell_type": "code",
      "source": [
        "from sklearn.metrics import confusion_matrix\n",
        "confusion_matrix(y_test, y_pred, labels = [0,1,2])"
      ],
      "metadata": {
        "colab": {
          "base_uri": "https://localhost:8080/"
        },
        "id": "sJrTAWVr-TO5",
        "outputId": "46da1535-146a-425d-819b-f82e62f8b06b"
      },
      "execution_count": null,
      "outputs": [
        {
          "output_type": "execute_result",
          "data": {
            "text/plain": [
              "array([[11,  0,  0],\n",
              "       [ 0,  4,  1],\n",
              "       [ 0,  1, 13]])"
            ]
          },
          "metadata": {},
          "execution_count": 144
        }
      ]
    },
    {
      "cell_type": "code",
      "source": [
        "from sklearn.metrics import ConfusionMatrixDisplay\n",
        "import matplotlib.pyplot as plt\n",
        "fig = plt.figure(figsize=(15,15))\n",
        "cm = confusion_matrix(y_test, y_pred, labels = [0,1,2])\n",
        "disp = ConfusionMatrixDisplay(confusion_matrix=cm,display_labels=[0,1,2])\n",
        "disp.plot()\n",
        "plt.show()"
      ],
      "metadata": {
        "colab": {
          "base_uri": "https://localhost:8080/",
          "height": 296
        },
        "id": "V0YwJELX-i5-",
        "outputId": "fe054b5c-f60f-4940-b6be-4c6edadd78e8"
      },
      "execution_count": null,
      "outputs": [
        {
          "output_type": "display_data",
          "data": {
            "text/plain": [
              "<Figure size 1080x1080 with 0 Axes>"
            ]
          },
          "metadata": {}
        },
        {
          "output_type": "display_data",
          "data": {
            "text/plain": [
              "<Figure size 432x288 with 2 Axes>"
            ],
            "image/png": "[encoded data removed]"
          },
          "metadata": {
            "needs_background": "light"
          }
        }
      ]
    },
    {
      "cell_type": "code",
      "source": [
        "from sklearn.neighbors import KNeighborsClassifier\n",
        "X_train, X_test, y_train, y_test = train_test_split(X, y, test_size=0.2)\n",
        "clf_KNN = KNeighborsClassifier(n_neighbors=8)\n",
        "clf_KNN.fit(X_train, y_train)"
      ],
      "metadata": {
        "colab": {
          "base_uri": "https://localhost:8080/",
          "height": 74
        },
        "id": "53zIAXiNEKvu",
        "outputId": "a2de7786-3023-43eb-b1ab-2312dfbfd8d5"
      },
      "execution_count": null,
      "outputs": [
        {
          "output_type": "execute_result",
          "data": {
            "text/plain": [
              "KNeighborsClassifier(n_neighbors=8)"
            ],
            "text/html": [
              "<style>#sk-container-id-16 {color: black;background-color: white;}#sk-container-id-16 pre{padding: 0;}#sk-container-id-16 div.sk-toggleable {background-color: white;}#sk-container-id-16 label.sk-toggleable__label {cursor: pointer;display: block;width: 100%;margin-bottom: 0;padding: 0.3em;box-sizing: border-box;text-align: center;}#sk-container-id-16 label.sk-toggleable__label-arrow:before {content: \"▸\";float: left;margin-right: 0.25em;color: #696969;}#sk-container-id-16 label.sk-toggleable__label-arrow:hover:before {color: black;}#sk-container-id-16 div.sk-estimator:hover label.sk-toggleable__label-arrow:before {color: black;}#sk-container-id-16 div.sk-toggleable__content {max-height: 0;max-width: 0;overflow: hidden;text-align: left;background-color: #f0f8ff;}#sk-container-id-16 div.sk-toggleable__content pre {margin: 0.2em;color: black;border-radius: 0.25em;background-color: #f0f8ff;}#sk-container-id-16 input.sk-toggleable__control:checked~div.sk-toggleable__content {max-height: 200px;max-width: 100%;overflow: auto;}#sk-container-id-16 input.sk-toggleable__control:checked~label.sk-toggleable__label-arrow:before {content: \"▾\";}#sk-container-id-16 div.sk-estimator input.sk-toggleable__control:checked~label.sk-toggleable__label {background-color: #d4ebff;}#sk-container-id-16 div.sk-label input.sk-toggleable__control:checked~label.sk-toggleable__label {background-color: #d4ebff;}#sk-container-id-16 input.sk-hidden--visually {border: 0;clip: rect(1px 1px 1px 1px);clip: rect(1px, 1px, 1px, 1px);height: 1px;margin: -1px;overflow: hidden;padding: 0;position: absolute;width: 1px;}#sk-container-id-16 div.sk-estimator {font-family: monospace;background-color: #f0f8ff;border: 1px dotted black;border-radius: 0.25em;box-sizing: border-box;margin-bottom: 0.5em;}#sk-container-id-16 div.sk-estimator:hover {background-color: #d4ebff;}#sk-container-id-16 div.sk-parallel-item::after {content: \"\";width: 100%;border-bottom: 1px solid gray;flex-grow: 1;}#sk-container-id-16 div.sk-label:hover label.sk-toggleable__label {background-color: #d4ebff;}#sk-container-id-16 div.sk-serial::before {content: \"\";position: absolute;border-left: 1px solid gray;box-sizing: border-box;top: 0;bottom: 0;left: 50%;z-index: 0;}#sk-container-id-16 div.sk-serial {display: flex;flex-direction: column;align-items: center;background-color: white;padding-right: 0.2em;padding-left: 0.2em;position: relative;}#sk-container-id-16 div.sk-item {position: relative;z-index: 1;}#sk-container-id-16 div.sk-parallel {display: flex;align-items: stretch;justify-content: center;background-color: white;position: relative;}#sk-container-id-16 div.sk-item::before, #sk-container-id-16 div.sk-parallel-item::before {content: \"\";position: absolute;border-left: 1px solid gray;box-sizing: border-box;top: 0;bottom: 0;left: 50%;z-index: -1;}#sk-container-id-16 div.sk-parallel-item {display: flex;flex-direction: column;z-index: 1;position: relative;background-color: white;}#sk-container-id-16 div.sk-parallel-item:first-child::after {align-self: flex-end;width: 50%;}#sk-container-id-16 div.sk-parallel-item:last-child::after {align-self: flex-start;width: 50%;}#sk-container-id-16 div.sk-parallel-item:only-child::after {width: 0;}#sk-container-id-16 div.sk-dashed-wrapped {border: 1px dashed gray;margin: 0 0.4em 0.5em 0.4em;box-sizing: border-box;padding-bottom: 0.4em;background-color: white;}#sk-container-id-16 div.sk-label label {font-family: monospace;font-weight: bold;display: inline-block;line-height: 1.2em;}#sk-container-id-16 div.sk-label-container {text-align: center;}#sk-container-id-16 div.sk-container {/* jupyter's `normalize.less` sets `[hidden] { display: none; }` but bootstrap.min.css set `[hidden] { display: none !important; }` so we also need the `!important` here to be able to override the default hidden behavior on the sphinx rendered scikit-learn.org. See: https://github.com/scikit-learn/scikit-learn/issues/21755 */display: inline-block !important;position: relative;}#sk-container-id-16 div.sk-text-repr-fallback {display: none;}</style><div id=\"sk-container-id-16\" class=\"sk-top-container\"><div class=\"sk-text-repr-fallback\"><pre>KNeighborsClassifier(n_neighbors=8)</pre><b>In a Jupyter environment, please rerun this cell to show the HTML representation or trust the notebook. <br />On GitHub, the HTML representation is unable to render, please try loading this page with nbviewer.org.</b></div><div class=\"sk-container\" hidden><div class=\"sk-item\"><div class=\"sk-estimator sk-toggleable\"><input class=\"sk-toggleable__control sk-hidden--visually\" id=\"sk-estimator-id-16\" type=\"checkbox\" checked><label for=\"sk-estimator-id-16\" class=\"sk-toggleable__label sk-toggleable__label-arrow\">KNeighborsClassifier</label><div class=\"sk-toggleable__content\"><pre>KNeighborsClassifier(n_neighbors=8)</pre></div></div></div></div></div>"
            ]
          },
          "metadata": {},
          "execution_count": 150
        }
      ]
    },
    {
      "cell_type": "code",
      "source": [
        "clf_KNN.score(X_train, y_train)"
      ],
      "metadata": {
        "colab": {
          "base_uri": "https://localhost:8080/"
        },
        "id": "nRIR45MSE5lP",
        "outputId": "42057161-469a-4654-bba1-64bb2dc5f007"
      },
      "execution_count": null,
      "outputs": [
        {
          "output_type": "execute_result",
          "data": {
            "text/plain": [
              "0.975"
            ]
          },
          "metadata": {},
          "execution_count": 151
        }
      ]
    },
    {
      "cell_type": "code",
      "source": [
        "y_pred = clf_KNN.predict(X_test)\n",
        "print(\"Accuracy of K-Nearest Neighbour is:\",\n",
        "metrics.accuracy_score(y_test, y_pred)*100)"
      ],
      "metadata": {
        "colab": {
          "base_uri": "https://localhost:8080/"
        },
        "id": "xIIEkedmE7J2",
        "outputId": "f12562b9-a36d-4266-8073-7beb7c5d9190"
      },
      "execution_count": null,
      "outputs": [
        {
          "output_type": "stream",
          "name": "stdout",
          "text": [
            "Accuracy of K-Nearest Neighbour is: 93.33333333333333\n"
          ]
        }
      ]
    },
    {
      "cell_type": "code",
      "source": [
        "cm = confusion_matrix(y_test, y_pred, labels = [0,1,2])\n",
        "disp = ConfusionMatrixDisplay(confusion_matrix=cm,display_labels=[0,1,2])\n",
        "disp.plot()\n",
        "plt.show()"
      ],
      "metadata": {
        "colab": {
          "base_uri": "https://localhost:8080/",
          "height": 296
        },
        "id": "Q5b9-nJYFFhs",
        "outputId": "ccfd6d08-23ac-4d57-dea6-c9468b5bf73f"
      },
      "execution_count": null,
      "outputs": [
        {
          "output_type": "display_data",
          "data": {
            "text/plain": [
              "<Figure size 1080x1080 with 0 Axes>"
            ]
          },
          "metadata": {}
        },
        {
          "output_type": "display_data",
          "data": {
            "text/plain": [
              "<Figure size 432x288 with 2 Axes>"
            ],
            "image/png": "[encoded data removed]"
          },
          "metadata": {
            "needs_background": "light"
          }
        }
      ]
    },
    {
      "cell_type": "code",
      "source": [
        "from sklearn import tree\n",
        "X_train, X_test, y_train, y_test = train_test_split(X, y, test_size=0.2)\n",
        "clf_tree = tree.DecisionTreeClassifier()\n",
        "clf_tree.fit(X_train, y_train)"
      ],
      "metadata": {
        "colab": {
          "base_uri": "https://localhost:8080/",
          "height": 74
        },
        "id": "AQWmRi3F_-L9",
        "outputId": "62a06c95-950c-4fc1-8625-1ef116fa0570"
      },
      "execution_count": null,
      "outputs": [
        {
          "output_type": "execute_result",
          "data": {
            "text/plain": [
              "DecisionTreeClassifier()"
            ],
            "text/html": [
              "<style>#sk-container-id-17 {color: black;background-color: white;}#sk-container-id-17 pre{padding: 0;}#sk-container-id-17 div.sk-toggleable {background-color: white;}#sk-container-id-17 label.sk-toggleable__label {cursor: pointer;display: block;width: 100%;margin-bottom: 0;padding: 0.3em;box-sizing: border-box;text-align: center;}#sk-container-id-17 label.sk-toggleable__label-arrow:before {content: \"▸\";float: left;margin-right: 0.25em;color: #696969;}#sk-container-id-17 label.sk-toggleable__label-arrow:hover:before {color: black;}#sk-container-id-17 div.sk-estimator:hover label.sk-toggleable__label-arrow:before {color: black;}#sk-container-id-17 div.sk-toggleable__content {max-height: 0;max-width: 0;overflow: hidden;text-align: left;background-color: #f0f8ff;}#sk-container-id-17 div.sk-toggleable__content pre {margin: 0.2em;color: black;border-radius: 0.25em;background-color: #f0f8ff;}#sk-container-id-17 input.sk-toggleable__control:checked~div.sk-toggleable__content {max-height: 200px;max-width: 100%;overflow: auto;}#sk-container-id-17 input.sk-toggleable__control:checked~label.sk-toggleable__label-arrow:before {content: \"▾\";}#sk-container-id-17 div.sk-estimator input.sk-toggleable__control:checked~label.sk-toggleable__label {background-color: #d4ebff;}#sk-container-id-17 div.sk-label input.sk-toggleable__control:checked~label.sk-toggleable__label {background-color: #d4ebff;}#sk-container-id-17 input.sk-hidden--visually {border: 0;clip: rect(1px 1px 1px 1px);clip: rect(1px, 1px, 1px, 1px);height: 1px;margin: -1px;overflow: hidden;padding: 0;position: absolute;width: 1px;}#sk-container-id-17 div.sk-estimator {font-family: monospace;background-color: #f0f8ff;border: 1px dotted black;border-radius: 0.25em;box-sizing: border-box;margin-bottom: 0.5em;}#sk-container-id-17 div.sk-estimator:hover {background-color: #d4ebff;}#sk-container-id-17 div.sk-parallel-item::after {content: \"\";width: 100%;border-bottom: 1px solid gray;flex-grow: 1;}#sk-container-id-17 div.sk-label:hover label.sk-toggleable__label {background-color: #d4ebff;}#sk-container-id-17 div.sk-serial::before {content: \"\";position: absolute;border-left: 1px solid gray;box-sizing: border-box;top: 0;bottom: 0;left: 50%;z-index: 0;}#sk-container-id-17 div.sk-serial {display: flex;flex-direction: column;align-items: center;background-color: white;padding-right: 0.2em;padding-left: 0.2em;position: relative;}#sk-container-id-17 div.sk-item {position: relative;z-index: 1;}#sk-container-id-17 div.sk-parallel {display: flex;align-items: stretch;justify-content: center;background-color: white;position: relative;}#sk-container-id-17 div.sk-item::before, #sk-container-id-17 div.sk-parallel-item::before {content: \"\";position: absolute;border-left: 1px solid gray;box-sizing: border-box;top: 0;bottom: 0;left: 50%;z-index: -1;}#sk-container-id-17 div.sk-parallel-item {display: flex;flex-direction: column;z-index: 1;position: relative;background-color: white;}#sk-container-id-17 div.sk-parallel-item:first-child::after {align-self: flex-end;width: 50%;}#sk-container-id-17 div.sk-parallel-item:last-child::after {align-self: flex-start;width: 50%;}#sk-container-id-17 div.sk-parallel-item:only-child::after {width: 0;}#sk-container-id-17 div.sk-dashed-wrapped {border: 1px dashed gray;margin: 0 0.4em 0.5em 0.4em;box-sizing: border-box;padding-bottom: 0.4em;background-color: white;}#sk-container-id-17 div.sk-label label {font-family: monospace;font-weight: bold;display: inline-block;line-height: 1.2em;}#sk-container-id-17 div.sk-label-container {text-align: center;}#sk-container-id-17 div.sk-container {/* jupyter's `normalize.less` sets `[hidden] { display: none; }` but bootstrap.min.css set `[hidden] { display: none !important; }` so we also need the `!important` here to be able to override the default hidden behavior on the sphinx rendered scikit-learn.org. See: https://github.com/scikit-learn/scikit-learn/issues/21755 */display: inline-block !important;position: relative;}#sk-container-id-17 div.sk-text-repr-fallback {display: none;}</style><div id=\"sk-container-id-17\" class=\"sk-top-container\"><div class=\"sk-text-repr-fallback\"><pre>DecisionTreeClassifier()</pre><b>In a Jupyter environment, please rerun this cell to show the HTML representation or trust the notebook. <br />On GitHub, the HTML representation is unable to render, please try loading this page with nbviewer.org.</b></div><div class=\"sk-container\" hidden><div class=\"sk-item\"><div class=\"sk-estimator sk-toggleable\"><input class=\"sk-toggleable__control sk-hidden--visually\" id=\"sk-estimator-id-17\" type=\"checkbox\" checked><label for=\"sk-estimator-id-17\" class=\"sk-toggleable__label sk-toggleable__label-arrow\">DecisionTreeClassifier</label><div class=\"sk-toggleable__content\"><pre>DecisionTreeClassifier()</pre></div></div></div></div></div>"
            ]
          },
          "metadata": {},
          "execution_count": 154
        }
      ]
    },
    {
      "cell_type": "code",
      "source": [
        "clf_tree.score(X_train,y_train)"
      ],
      "metadata": {
        "colab": {
          "base_uri": "https://localhost:8080/"
        },
        "id": "X7__7VTrARrf",
        "outputId": "f27c981c-2f26-43a8-d3f9-25e0bcb430bb"
      },
      "execution_count": null,
      "outputs": [
        {
          "output_type": "execute_result",
          "data": {
            "text/plain": [
              "1.0"
            ]
          },
          "metadata": {},
          "execution_count": 155
        }
      ]
    },
    {
      "cell_type": "code",
      "source": [
        "fig = plt.figure(figsize=(15,15))\n",
        "_ = tree.plot_tree(clf_tree, filled = True)"
      ],
      "metadata": {
        "colab": {
          "base_uri": "https://localhost:8080/",
          "height": 846
        },
        "id": "kCiZBVS_AXgs",
        "outputId": "8239c48d-f69b-41d6-9e51-c8849bcd8c7c"
      },
      "execution_count": null,
      "outputs": [
        {
          "output_type": "display_data",
          "data": {
            "text/plain": [
              "<Figure size 1080x1080 with 1 Axes>"
            ],
            "image/png": "[encoded data removed]"
          },
          "metadata": {
            "needs_background": "light"
          }
        }
      ]
    },
    {
      "cell_type": "code",
      "source": [
        "from sklearn.tree import export_text\n",
        "iris = load_iris()\n",
        "r = export_text(clf_tree, feature_names=iris['feature_names'])\n",
        "r"
      ],
      "metadata": {
        "colab": {
          "base_uri": "https://localhost:8080/",
          "height": 88
        },
        "id": "-SFU2GltBe-Y",
        "outputId": "585b2ea3-cabf-4b22-99e4-32632a41b0c3"
      },
      "execution_count": null,
      "outputs": [
        {
          "output_type": "execute_result",
          "data": {
            "text/plain": [
              "'|--- petal length (cm) <= 2.60\\n|   |--- class: 0\\n|--- petal length (cm) >  2.60\\n|   |--- petal width (cm) <= 1.65\\n|   |   |--- petal length (cm) <= 4.95\\n|   |   |   |--- class: 1\\n|   |   |--- petal length (cm) >  4.95\\n|   |   |   |--- petal width (cm) <= 1.55\\n|   |   |   |   |--- class: 2\\n|   |   |   |--- petal width (cm) >  1.55\\n|   |   |   |   |--- petal length (cm) <= 5.45\\n|   |   |   |   |   |--- class: 1\\n|   |   |   |   |--- petal length (cm) >  5.45\\n|   |   |   |   |   |--- class: 2\\n|   |--- petal width (cm) >  1.65\\n|   |   |--- class: 2\\n'"
            ],
            "application/vnd.google.colaboratory.intrinsic+json": {
              "type": "string"
            }
          },
          "metadata": {},
          "execution_count": 157
        }
      ]
    },
    {
      "cell_type": "code",
      "source": [
        "y_pred = clf_tree.predict(X_test)\n",
        "print(\"Accuracy of Decision Tree model is:\",\n",
        "metrics.accuracy_score(y_test, y_pred)*100)"
      ],
      "metadata": {
        "colab": {
          "base_uri": "https://localhost:8080/"
        },
        "id": "RZg1vQ9ECdHf",
        "outputId": "a3885d8e-12a6-47b1-c3ca-c262efd547db"
      },
      "execution_count": null,
      "outputs": [
        {
          "output_type": "stream",
          "name": "stdout",
          "text": [
            "Accuracy of Decision Tree model is: 93.33333333333333\n"
          ]
        }
      ]
    },
    {
      "cell_type": "code",
      "source": [
        "fig = plt.figure(figsize=(15,15))\n",
        "cm = confusion_matrix(y_test, y_pred, labels = [0,1,2])\n",
        "disp = ConfusionMatrixDisplay(confusion_matrix=cm,display_labels=[0,1,2])\n",
        "disp.plot()\n",
        "plt.show()"
      ],
      "metadata": {
        "colab": {
          "base_uri": "https://localhost:8080/",
          "height": 296
        },
        "id": "x5N7huA0C4la",
        "outputId": "4da2b64e-bc78-4443-c4e4-74782e499816"
      },
      "execution_count": null,
      "outputs": [
        {
          "output_type": "display_data",
          "data": {
            "text/plain": [
              "<Figure size 1080x1080 with 0 Axes>"
            ]
          },
          "metadata": {}
        },
        {
          "output_type": "display_data",
          "data": {
            "text/plain": [
              "<Figure size 432x288 with 2 Axes>"
            ],
            "image/png": "[encoded data removed]"
          },
          "metadata": {
            "needs_background": "light"
          }
        }
      ]
    },
    {
      "cell_type": "code",
      "source": [
        "from sklearn.ensemble import RandomForestClassifier\n",
        "X_train, X_test, y_train, y_test = train_test_split(X, y, test_size=0.2)\n",
        "clf_RF = RandomForestClassifier(n_estimators=50)\n",
        "clf_RF.fit(X_train, y_train)"
      ],
      "metadata": {
        "colab": {
          "base_uri": "https://localhost:8080/",
          "height": 74
        },
        "id": "-wFzPQPeCJCQ",
        "outputId": "7978efae-487f-4e15-e261-56cc58374c12"
      },
      "execution_count": null,
      "outputs": [
        {
          "output_type": "execute_result",
          "data": {
            "text/plain": [
              "RandomForestClassifier(n_estimators=50)"
            ],
            "text/html": [
              "<style>#sk-container-id-22 {color: black;background-color: white;}#sk-container-id-22 pre{padding: 0;}#sk-container-id-22 div.sk-toggleable {background-color: white;}#sk-container-id-22 label.sk-toggleable__label {cursor: pointer;display: block;width: 100%;margin-bottom: 0;padding: 0.3em;box-sizing: border-box;text-align: center;}#sk-container-id-22 label.sk-toggleable__label-arrow:before {content: \"▸\";float: left;margin-right: 0.25em;color: #696969;}#sk-container-id-22 label.sk-toggleable__label-arrow:hover:before {color: black;}#sk-container-id-22 div.sk-estimator:hover label.sk-toggleable__label-arrow:before {color: black;}#sk-container-id-22 div.sk-toggleable__content {max-height: 0;max-width: 0;overflow: hidden;text-align: left;background-color: #f0f8ff;}#sk-container-id-22 div.sk-toggleable__content pre {margin: 0.2em;color: black;border-radius: 0.25em;background-color: #f0f8ff;}#sk-container-id-22 input.sk-toggleable__control:checked~div.sk-toggleable__content {max-height: 200px;max-width: 100%;overflow: auto;}#sk-container-id-22 input.sk-toggleable__control:checked~label.sk-toggleable__label-arrow:before {content: \"▾\";}#sk-container-id-22 div.sk-estimator input.sk-toggleable__control:checked~label.sk-toggleable__label {background-color: #d4ebff;}#sk-container-id-22 div.sk-label input.sk-toggleable__control:checked~label.sk-toggleable__label {background-color: #d4ebff;}#sk-container-id-22 input.sk-hidden--visually {border: 0;clip: rect(1px 1px 1px 1px);clip: rect(1px, 1px, 1px, 1px);height: 1px;margin: -1px;overflow: hidden;padding: 0;position: absolute;width: 1px;}#sk-container-id-22 div.sk-estimator {font-family: monospace;background-color: #f0f8ff;border: 1px dotted black;border-radius: 0.25em;box-sizing: border-box;margin-bottom: 0.5em;}#sk-container-id-22 div.sk-estimator:hover {background-color: #d4ebff;}#sk-container-id-22 div.sk-parallel-item::after {content: \"\";width: 100%;border-bottom: 1px solid gray;flex-grow: 1;}#sk-container-id-22 div.sk-label:hover label.sk-toggleable__label {background-color: #d4ebff;}#sk-container-id-22 div.sk-serial::before {content: \"\";position: absolute;border-left: 1px solid gray;box-sizing: border-box;top: 0;bottom: 0;left: 50%;z-index: 0;}#sk-container-id-22 div.sk-serial {display: flex;flex-direction: column;align-items: center;background-color: white;padding-right: 0.2em;padding-left: 0.2em;position: relative;}#sk-container-id-22 div.sk-item {position: relative;z-index: 1;}#sk-container-id-22 div.sk-parallel {display: flex;align-items: stretch;justify-content: center;background-color: white;position: relative;}#sk-container-id-22 div.sk-item::before, #sk-container-id-22 div.sk-parallel-item::before {content: \"\";position: absolute;border-left: 1px solid gray;box-sizing: border-box;top: 0;bottom: 0;left: 50%;z-index: -1;}#sk-container-id-22 div.sk-parallel-item {display: flex;flex-direction: column;z-index: 1;position: relative;background-color: white;}#sk-container-id-22 div.sk-parallel-item:first-child::after {align-self: flex-end;width: 50%;}#sk-container-id-22 div.sk-parallel-item:last-child::after {align-self: flex-start;width: 50%;}#sk-container-id-22 div.sk-parallel-item:only-child::after {width: 0;}#sk-container-id-22 div.sk-dashed-wrapped {border: 1px dashed gray;margin: 0 0.4em 0.5em 0.4em;box-sizing: border-box;padding-bottom: 0.4em;background-color: white;}#sk-container-id-22 div.sk-label label {font-family: monospace;font-weight: bold;display: inline-block;line-height: 1.2em;}#sk-container-id-22 div.sk-label-container {text-align: center;}#sk-container-id-22 div.sk-container {/* jupyter's `normalize.less` sets `[hidden] { display: none; }` but bootstrap.min.css set `[hidden] { display: none !important; }` so we also need the `!important` here to be able to override the default hidden behavior on the sphinx rendered scikit-learn.org. See: https://github.com/scikit-learn/scikit-learn/issues/21755 */display: inline-block !important;position: relative;}#sk-container-id-22 div.sk-text-repr-fallback {display: none;}</style><div id=\"sk-container-id-22\" class=\"sk-top-container\"><div class=\"sk-text-repr-fallback\"><pre>RandomForestClassifier(n_estimators=50)</pre><b>In a Jupyter environment, please rerun this cell to show the HTML representation or trust the notebook. <br />On GitHub, the HTML representation is unable to render, please try loading this page with nbviewer.org.</b></div><div class=\"sk-container\" hidden><div class=\"sk-item\"><div class=\"sk-estimator sk-toggleable\"><input class=\"sk-toggleable__control sk-hidden--visually\" id=\"sk-estimator-id-22\" type=\"checkbox\" checked><label for=\"sk-estimator-id-22\" class=\"sk-toggleable__label sk-toggleable__label-arrow\">RandomForestClassifier</label><div class=\"sk-toggleable__content\"><pre>RandomForestClassifier(n_estimators=50)</pre></div></div></div></div></div>"
            ]
          },
          "metadata": {},
          "execution_count": 175
        }
      ]
    },
    {
      "cell_type": "code",
      "source": [
        "clf_RF.score(X_train, y_train)"
      ],
      "metadata": {
        "colab": {
          "base_uri": "https://localhost:8080/"
        },
        "id": "NY0EKnr1CPvS",
        "outputId": "490aa311-9067-4adc-c460-54a94d9e6e3d"
      },
      "execution_count": null,
      "outputs": [
        {
          "output_type": "execute_result",
          "data": {
            "text/plain": [
              "1.0"
            ]
          },
          "metadata": {},
          "execution_count": 176
        }
      ]
    },
    {
      "cell_type": "code",
      "source": [
        "y_pred = clf_RF.predict(X_test)\n",
        "print(\"Accuracy of Random Forest model is:\",\n",
        "metrics.accuracy_score(y_test, y_pred)*100)"
      ],
      "metadata": {
        "colab": {
          "base_uri": "https://localhost:8080/"
        },
        "id": "fR1itLMBCUlN",
        "outputId": "7218850c-e564-41b5-afbb-5751b8196619"
      },
      "execution_count": null,
      "outputs": [
        {
          "output_type": "stream",
          "name": "stdout",
          "text": [
            "Accuracy of Random Forest model is: 96.66666666666667\n"
          ]
        }
      ]
    },
    {
      "cell_type": "code",
      "source": [
        "fig = plt.figure(figsize=(15,15))\n",
        "cm = confusion_matrix(y_test, y_pred, labels = [0,1,2])\n",
        "disp = ConfusionMatrixDisplay(confusion_matrix=cm,display_labels=[0,1,2])\n",
        "disp.plot()\n",
        "plt.show()"
      ],
      "metadata": {
        "colab": {
          "base_uri": "https://localhost:8080/",
          "height": 300
        },
        "id": "waB9VJR3D006",
        "outputId": "aba760e7-4827-4dcb-b5cf-801734a4d67a"
      },
      "execution_count": null,
      "outputs": [
        {
          "output_type": "display_data",
          "data": {
            "text/plain": [
              "<Figure size 1080x1080 with 0 Axes>"
            ]
          },
          "metadata": {}
        },
        {
          "output_type": "display_data",
          "data": {
            "text/plain": [
              "<Figure size 432x288 with 2 Axes>"
            ],
            "image/png": "[encoded data removed]"
          },
          "metadata": {
            "needs_background": "light"
          }
        }
      ]
    },
    {
      "cell_type": "code",
      "source": [
        "from sklearn.ensemble import AdaBoostClassifier\n",
        "X_train, X_test, y_train, y_test = train_test_split(X, y, test_size=0.2)\n",
        "clf_AB = AdaBoostClassifier(n_estimators=50)\n",
        "clf_AB.fit(X_train, y_train)"
      ],
      "metadata": {
        "colab": {
          "base_uri": "https://localhost:8080/",
          "height": 74
        },
        "id": "oJb-UOUWFz0Y",
        "outputId": "4c615261-12bc-40c6-fa30-f6e4ac5b7dab"
      },
      "execution_count": null,
      "outputs": [
        {
          "output_type": "execute_result",
          "data": {
            "text/plain": [
              "AdaBoostClassifier()"
            ],
            "text/html": [
              "<style>#sk-container-id-23 {color: black;background-color: white;}#sk-container-id-23 pre{padding: 0;}#sk-container-id-23 div.sk-toggleable {background-color: white;}#sk-container-id-23 label.sk-toggleable__label {cursor: pointer;display: block;width: 100%;margin-bottom: 0;padding: 0.3em;box-sizing: border-box;text-align: center;}#sk-container-id-23 label.sk-toggleable__label-arrow:before {content: \"▸\";float: left;margin-right: 0.25em;color: #696969;}#sk-container-id-23 label.sk-toggleable__label-arrow:hover:before {color: black;}#sk-container-id-23 div.sk-estimator:hover label.sk-toggleable__label-arrow:before {color: black;}#sk-container-id-23 div.sk-toggleable__content {max-height: 0;max-width: 0;overflow: hidden;text-align: left;background-color: #f0f8ff;}#sk-container-id-23 div.sk-toggleable__content pre {margin: 0.2em;color: black;border-radius: 0.25em;background-color: #f0f8ff;}#sk-container-id-23 input.sk-toggleable__control:checked~div.sk-toggleable__content {max-height: 200px;max-width: 100%;overflow: auto;}#sk-container-id-23 input.sk-toggleable__control:checked~label.sk-toggleable__label-arrow:before {content: \"▾\";}#sk-container-id-23 div.sk-estimator input.sk-toggleable__control:checked~label.sk-toggleable__label {background-color: #d4ebff;}#sk-container-id-23 div.sk-label input.sk-toggleable__control:checked~label.sk-toggleable__label {background-color: #d4ebff;}#sk-container-id-23 input.sk-hidden--visually {border: 0;clip: rect(1px 1px 1px 1px);clip: rect(1px, 1px, 1px, 1px);height: 1px;margin: -1px;overflow: hidden;padding: 0;position: absolute;width: 1px;}#sk-container-id-23 div.sk-estimator {font-family: monospace;background-color: #f0f8ff;border: 1px dotted black;border-radius: 0.25em;box-sizing: border-box;margin-bottom: 0.5em;}#sk-container-id-23 div.sk-estimator:hover {background-color: #d4ebff;}#sk-container-id-23 div.sk-parallel-item::after {content: \"\";width: 100%;border-bottom: 1px solid gray;flex-grow: 1;}#sk-container-id-23 div.sk-label:hover label.sk-toggleable__label {background-color: #d4ebff;}#sk-container-id-23 div.sk-serial::before {content: \"\";position: absolute;border-left: 1px solid gray;box-sizing: border-box;top: 0;bottom: 0;left: 50%;z-index: 0;}#sk-container-id-23 div.sk-serial {display: flex;flex-direction: column;align-items: center;background-color: white;padding-right: 0.2em;padding-left: 0.2em;position: relative;}#sk-container-id-23 div.sk-item {position: relative;z-index: 1;}#sk-container-id-23 div.sk-parallel {display: flex;align-items: stretch;justify-content: center;background-color: white;position: relative;}#sk-container-id-23 div.sk-item::before, #sk-container-id-23 div.sk-parallel-item::before {content: \"\";position: absolute;border-left: 1px solid gray;box-sizing: border-box;top: 0;bottom: 0;left: 50%;z-index: -1;}#sk-container-id-23 div.sk-parallel-item {display: flex;flex-direction: column;z-index: 1;position: relative;background-color: white;}#sk-container-id-23 div.sk-parallel-item:first-child::after {align-self: flex-end;width: 50%;}#sk-container-id-23 div.sk-parallel-item:last-child::after {align-self: flex-start;width: 50%;}#sk-container-id-23 div.sk-parallel-item:only-child::after {width: 0;}#sk-container-id-23 div.sk-dashed-wrapped {border: 1px dashed gray;margin: 0 0.4em 0.5em 0.4em;box-sizing: border-box;padding-bottom: 0.4em;background-color: white;}#sk-container-id-23 div.sk-label label {font-family: monospace;font-weight: bold;display: inline-block;line-height: 1.2em;}#sk-container-id-23 div.sk-label-container {text-align: center;}#sk-container-id-23 div.sk-container {/* jupyter's `normalize.less` sets `[hidden] { display: none; }` but bootstrap.min.css set `[hidden] { display: none !important; }` so we also need the `!important` here to be able to override the default hidden behavior on the sphinx rendered scikit-learn.org. See: https://github.com/scikit-learn/scikit-learn/issues/21755 */display: inline-block !important;position: relative;}#sk-container-id-23 div.sk-text-repr-fallback {display: none;}</style><div id=\"sk-container-id-23\" class=\"sk-top-container\"><div class=\"sk-text-repr-fallback\"><pre>AdaBoostClassifier()</pre><b>In a Jupyter environment, please rerun this cell to show the HTML representation or trust the notebook. <br />On GitHub, the HTML representation is unable to render, please try loading this page with nbviewer.org.</b></div><div class=\"sk-container\" hidden><div class=\"sk-item\"><div class=\"sk-estimator sk-toggleable\"><input class=\"sk-toggleable__control sk-hidden--visually\" id=\"sk-estimator-id-23\" type=\"checkbox\" checked><label for=\"sk-estimator-id-23\" class=\"sk-toggleable__label sk-toggleable__label-arrow\">AdaBoostClassifier</label><div class=\"sk-toggleable__content\"><pre>AdaBoostClassifier()</pre></div></div></div></div></div>"
            ]
          },
          "metadata": {},
          "execution_count": 179
        }
      ]
    },
    {
      "cell_type": "code",
      "source": [
        "clf_AB.score(X_train, y_train)"
      ],
      "metadata": {
        "colab": {
          "base_uri": "https://localhost:8080/"
        },
        "id": "8Vf40tLLF9jw",
        "outputId": "3a4c7850-0409-4766-d0db-e4ea03fdecc8"
      },
      "execution_count": null,
      "outputs": [
        {
          "output_type": "execute_result",
          "data": {
            "text/plain": [
              "0.9666666666666667"
            ]
          },
          "metadata": {},
          "execution_count": 180
        }
      ]
    },
    {
      "cell_type": "code",
      "source": [
        "y_pred = clf_RF.predict(X_test)\n",
        "print(\"Accuracy of Random Forest model is:\",\n",
        "metrics.accuracy_score(y_test, y_pred)*100)"
      ],
      "metadata": {
        "colab": {
          "base_uri": "https://localhost:8080/"
        },
        "id": "wrQxUkbaGCdl",
        "outputId": "7ec2fe88-40b4-4569-9933-beef19de52a4"
      },
      "execution_count": null,
      "outputs": [
        {
          "output_type": "stream",
          "name": "stdout",
          "text": [
            "Accuracy of Random Forest model is: 100.0\n"
          ]
        }
      ]
    },
    {
      "cell_type": "code",
      "source": [
        "fig = plt.figure(figsize=(15,15))\n",
        "cm = confusion_matrix(y_test, y_pred, labels = [0,1,2])\n",
        "disp = ConfusionMatrixDisplay(confusion_matrix=cm,display_labels=[0,1,2])\n",
        "disp.plot()\n",
        "plt.show()"
      ],
      "metadata": {
        "colab": {
          "base_uri": "https://localhost:8080/",
          "height": 296
        },
        "id": "CTuJzWQ5GGRv",
        "outputId": "3a105540-973f-4e57-e44c-827f82d7ac50"
      },
      "execution_count": null,
      "outputs": [
        {
          "output_type": "display_data",
          "data": {
            "text/plain": [
              "<Figure size 1080x1080 with 0 Axes>"
            ]
          },
          "metadata": {}
        },
        {
          "output_type": "display_data",
          "data": {
            "text/plain": [
              "<Figure size 432x288 with 2 Axes>"
            ],
            "image/png": "[encoded data removed]"
          },
          "metadata": {
            "needs_background": "light"
          }
        }
      ]
    },
    {
      "cell_type": "markdown",
      "source": [
        "## Exercise\n",
        "\n"
      ],
      "metadata": {
        "id": "-8qdD4CJtTls"
      }
    },
    {
      "cell_type": "code",
      "source": [
        "import pandas as pd\n",
        "import numpy as np\n",
        "from sklearn.linear_model import LogisticRegression\n",
        "from sklearn.model_selection import train_test_split\n",
        "from sklearn.metrics import accuracy_score"
      ],
      "metadata": {
        "id": "H-_mjBLQtbaa"
      },
      "execution_count": null,
      "outputs": []
    },
    {
      "cell_type": "code",
      "source": [
        "#Generating the data\n",
        "\n",
        "a=[]\n",
        "b=[]\n",
        "c=[]\n",
        "d=[]\n",
        "e=[]\n",
        "for x in range (50000):\n",
        "    a+=[ <choice> * np.random.rand() ]\n",
        "    b+=[ <choice> * np.random.rand() ]\n",
        "    c+=[ <choice> * np.random.rand() ]\n",
        "    d+=[ <choice> * np.random.rand() ]\n",
        "    if <choice> *a[x]+<choice> *b[x]+<choice> *c[x]+<choice> *d[x]><choice>:\n",
        "        e+=[0]\n",
        "    else:\n",
        "        e+=[1]\n",
        "\n",
        "data = pd.DataFrame({'A':a,'B':b,'C':c,'D':d,'E':e})"
      ],
      "metadata": {
        "id": "m8xLcnc6t387"
      },
      "execution_count": null,
      "outputs": []
    },
    {
      "cell_type": "code",
      "source": [
        "train_data, test_data = <fill>(data)\n",
        "x_train=train_data[['A','B','C','D']]\n",
        "y_train=train_data['E']"
      ],
      "metadata": {
        "id": "TVwSSMBduOsQ"
      },
      "execution_count": null,
      "outputs": []
    },
    {
      "cell_type": "code",
      "source": [
        "model = LogisticRegression(random_state=0,max_iter=<choice>)\n",
        "model.fit(x_train,y_train)\n",
        "x_test=test_data[['A','B','C','D']]\n",
        "y_test=test_data['E']\n",
        "print(accuracy_score(y_test, model.<fill>(x_test)))"
      ],
      "metadata": {
        "id": "SOhiWR4nugLE"
      },
      "execution_count": null,
      "outputs": []
    },
    {
      "cell_type": "code",
      "source": [
        "coefficients = pd.concat([pd.DataFrame(data[['A','B','C','D']].columns),pd.DataFrame(np.transpose(model.coef_))], axis = 1)\n",
        "print(coefficients)"
      ],
      "metadata": {
        "id": "aE3g4bDpusFo"
      },
      "execution_count": null,
      "outputs": []
    }
  ]
}